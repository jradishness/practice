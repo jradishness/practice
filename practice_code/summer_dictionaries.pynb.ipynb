{
 "cells": [
  {
   "cell_type": "code",
   "execution_count": 33,
   "metadata": {
    "collapsed": true
   },
   "outputs": [],
   "source": [
    "knichols ={}"
   ]
  },
  {
   "cell_type": "code",
   "execution_count": 34,
   "metadata": {},
   "outputs": [
    {
     "name": "stdout",
     "output_type": "stream",
     "text": [
      "{'first_name': 'Kimberlee', 'last_name': 'Nichols', 'age': 39, 'city': 'Florence, AL'}\n"
     ]
    }
   ],
   "source": [
    "knichols['first_name'] = 'Kimberlee'\n",
    "knichols['last_name'] = 'Nichols'\n",
    "knichols['age'] = 39\n",
    "knichols['city'] = 'Florence, AL'\n",
    "print(knichols)"
   ]
  },
  {
   "cell_type": "code",
   "execution_count": 35,
   "metadata": {},
   "outputs": [],
   "source": [
    "skelly = {}\n",
    "skelly['first_name'] = 'Sean'\n",
    "skelly['last_name'] = 'Kelly'\n",
    "skelly['age'] = 31\n",
    "skelly['city'] = 'Lewisville, TX'\n",
    "skelly['gender'] = 'male'\n",
    "\n",
    "dbarber = {}\n",
    "dbarber['first_name'] = 'Darrin'\n",
    "dbarber['last_name'] = 'Barber'\n",
    "dbarber['age'] = 32\n",
    "dbarber['city'] = 'Lewisville, TX'\n",
    "dbarber['gender'] = 'male'\n",
    "knichols['gender'] = 'female'"
   ]
  },
  {
   "cell_type": "code",
   "execution_count": 7,
   "metadata": {},
   "outputs": [
    {
     "name": "stdout",
     "output_type": "stream",
     "text": [
      "{'first_name': 'Sean', 'last_name': 'Kelly', 'age': 31, 'city': 'Lewisville, TX', 'gender': 'male'}\n{'first_name': 'Dustin', 'last_name': 'Barber', 'age': 32, 'city': 'Lewisville, TX', 'gender': 'male'}\n{'first_name': 'Kimberlee', 'last_name': 'Nichols', 'age': 39, 'city': 'Florence, AL', 'gender': 'female'}\n"
     ]
    }
   ],
   "source": [
    "people  = [skelly, dbarber, knichols]\n",
    "for person in people:\n",
    "    print(person)"
   ]
  },
  {
   "cell_type": "code",
   "execution_count": 4,
   "metadata": {},
   "outputs": [],
   "source": [
    "Max = {'pet_type':'cat', 'owner':'Karyn'}\n",
    "Conway = {'pet_type':'dog', 'owner':'Adam'}\n",
    "Patsi = {'pet_type':'pig', 'owner':'Abram'}\n",
    "Scraps = {'pet_type':'dog', 'owner':'Jared'}\n",
    "Winny = {'pet_type':'dog', 'owner':'Brittany'}\n",
    "Poppi = {'pet_type':'dog', 'owner':'Mom'}\n",
    "pets = [Max, Conway, Patsi, Scraps, Winny, Poppi]"
   ]
  },
  {
   "cell_type": "code",
   "execution_count": 17,
   "metadata": {},
   "outputs": [
    {
     "name": "stdout",
     "output_type": "stream",
     "text": [
      "cat owns a pet_type.\nKaryn owns a owner.\ndog owns a pet_type.\nAdam owns a owner.\npig owns a pet_type.\nAbram owns a owner.\ndog owns a pet_type.\nJared owns a owner.\ndog owns a pet_type.\nBrittany owns a owner.\ndog owns a pet_type.\nMom owns a owner.\n"
     ]
    }
   ],
   "source": [
    "for pet in pets:\n",
    "    for key, value in pet.items():\n",
    "        print(value + \" owns a \" + key + '.')"
   ]
  },
  {
   "cell_type": "code",
   "execution_count": 22,
   "metadata": {},
   "outputs": [
    {
     "name": "stdout",
     "output_type": "stream",
     "text": [
      "Karyn owns a cat.\nAdam owns a dog.\nAbram owns a pig.\nJared owns a dog.\nBrittany owns a dog.\nMom owns a dog.\n"
     ]
    }
   ],
   "source": [
    "for pet in pets:\n",
    "    print(pet['owner'] + \" owns a \" + pet['pet_type'] + '.')"
   ]
  },
  {
   "cell_type": "code",
   "execution_count": 13,
   "metadata": {},
   "outputs": [],
   "source": [
    "favorite_places = {}\n",
    "favorite_places['Rhianna'] = 'Italy'\n",
    "favorite_places['Jared'] = 'any ice rink'\n",
    "favorite_places['Alexis'] = 'Germany'"
   ]
  },
  {
   "cell_type": "code",
   "execution_count": 29,
   "metadata": {},
   "outputs": [
    {
     "name": "stdout",
     "output_type": "stream",
     "text": [
      "Rhianna's favorite place is Italy.\nJared's favorite place is any ice rink.\nAlexis's favorite place is Germany.\n"
     ]
    }
   ],
   "source": [
    "for key, value in favorite_places.items():\n",
    "    print(str(key) + \"'s favorite place is \" + str(value) + '.')"
   ]
  },
  {
   "cell_type": "code",
   "execution_count": 27,
   "metadata": {},
   "outputs": [
    {
     "name": "stdout",
     "output_type": "stream",
     "text": [
      "\nDallas\nCountry: USA\nPopulation: 1318000\nFact: It's f@#king hot there.\n\nDetroit\nCountry: USA\nPopulation: 672796\nFact: It's condemned.\n\nFlorence\nCountry: USA\nPopulation: 39959\nFact: It's on the Tennessee river.\n"
     ]
    }
   ],
   "source": [
    "cities = {'Dallas': {'Country':'USA', \n",
    "                     'Population':1318000, \n",
    "                     'Fact':\"It's f@#king hot there.\"}, \n",
    "          'Detroit': {'Country':'USA', \n",
    "                     'Population':672796, \n",
    "                     'Fact':\"It's condemned.\"}, \n",
    "          'Florence':{'Country':'USA', \n",
    "                     'Population':39959, \n",
    "                     'Fact':\"It's on the Tennessee river.\"}} \n",
    "for city, dict in cities.items():\n",
    "    print('\\n' +city)\n",
    "    for key, value in dict.items():\n",
    "        print(key + ': ' + str(value))"
   ]
  },
  {
   "cell_type": "code",
   "execution_count": 30,
   "metadata": {},
   "outputs": [
    {
     "name": "stdout",
     "output_type": "stream",
     "text": [
      "Variable          Type    Data/Info\n-----------------------------------\nConway            dict    n=2\nMax               dict    n=2\nPatsi             dict    n=2\nPoppi             dict    n=2\nScraps            dict    n=2\nWinny             dict    n=2\ncities            dict    n=3\ncity              str     Florence\ndict              dict    n=3\nfavorite_places   dict    n=3\nkey               str     Alexis\npet               dict    n=2\npets              list    n=6\nvalue             str     Germany\n"
     ]
    }
   ],
   "source": [
    "whos"
   ]
  },
  {
   "cell_type": "code",
   "execution_count": null,
   "metadata": {},
   "outputs": [],
   "source": []
  }
 ],
 "metadata": {
  "kernelspec": {
   "display_name": "Python 2",
   "language": "python",
   "name": "python2"
  },
  "language_info": {
   "codemirror_mode": {
    "name": "ipython",
    "version": 2
   },
   "file_extension": ".py",
   "mimetype": "text/x-python",
   "name": "python",
   "nbconvert_exporter": "python",
   "pygments_lexer": "ipython2",
   "version": "2.7.6"
  }
 },
 "nbformat": 4,
 "nbformat_minor": 0
}
