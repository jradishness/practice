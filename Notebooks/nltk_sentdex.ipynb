{
 "cells": [
  {
   "cell_type": "code",
   "execution_count": 2,
   "metadata": {
    "collapsed": true
   },
   "outputs": [],
   "source": [
    "import sys"
   ]
  },
  {
   "cell_type": "code",
   "execution_count": 3,
   "metadata": {},
   "outputs": [
    {
     "name": "stderr",
     "output_type": "stream",
     "text": [
      "test"
     ]
    }
   ],
   "source": [
    "sys.stderr.write('test')\n",
    "sys.stderr.flush()"
   ]
  },
  {
   "cell_type": "code",
   "execution_count": 5,
   "metadata": {},
   "outputs": [
    {
     "name": "stderr",
     "output_type": "stream",
     "text": [
      "This is stderror text\n"
     ]
    },
    {
     "name": "stdout",
     "output_type": "stream",
     "text": [
      "This is stdout text"
     ]
    }
   ],
   "source": [
    "sys.stderr.write('This is stderror text\\n')\n",
    "sys.stderr.flush()\n",
    "sys.stdout.write('This is stdout text')\n"
   ]
  },
  {
   "cell_type": "code",
   "execution_count": 6,
   "metadata": {},
   "outputs": [
    {
     "name": "stdout",
     "output_type": "stream",
     "text": [
      "['/Users/jaredrfkelly/anaconda3/lib/python3.6/site-packages/ipykernel_launcher.py', '-f', '/Users/jaredrfkelly/Library/Jupyter/runtime/kernel-e604134d-08e2-4bd9-8498-853225ac0a54.json']\n"
     ]
    }
   ],
   "source": [
    "print(sys.argv)"
   ]
  },
  {
   "cell_type": "code",
   "execution_count": 8,
   "metadata": {},
   "outputs": [],
   "source": [
    "from matplotlib import pyplot as plt"
   ]
  },
  {
   "cell_type": "code",
   "execution_count": 11,
   "metadata": {},
   "outputs": [
    {
     "data": {
      "image/png": "[encoded data removed]",
      "text/plain": [
       "<matplotlib.figure.Figure at 0x10fab9da0>"
      ]
     },
     "metadata": {},
     "output_type": "display_data"
    }
   ],
   "source": [
    "plt.plot([5,6,7,8], [7,3,8,3])\n",
    "plt.show()"
   ]
  },
  {
   "cell_type": "code",
   "execution_count": 13,
   "metadata": {},
   "outputs": [
    {
     "data": {
      "image/png": "[encoded data removed]",
      "text/plain": [
       "<matplotlib.figure.Figure at 0x110a847f0>"
      ]
     },
     "metadata": {},
     "output_type": "display_data"
    }
   ],
   "source": [
    "x = [5,6,7,8]\n",
    "y = [7,3,8,7]\n",
    "plt.plot(x,y)\n",
    "plt.title('Epic Chart')\n",
    "plt.ylabel('Y axis')\n",
    "plt.xlabel('X axis')\n",
    "plt.show()"
   ]
  },
  {
   "cell_type": "code",
   "execution_count": 14,
   "metadata": {},
   "outputs": [],
   "source": [
    "from ftplib import FTP"
   ]
  },
  {
   "cell_type": "code",
   "execution_count": 15,
   "metadata": {},
   "outputs": [
    {
     "name": "stdout",
     "output_type": "stream",
     "text": [
      "{'her', \"haven't\", 'but', 'them', 'he', 'from', 'into', 'their', 'having', 'himself', 'his', 'mightn', 'they', 'i', 'herself', \"mightn't\", 'as', 'each', 'any', 'weren', \"wasn't\", 'own', 'my', 'have', 'at', 'in', 'few', 'over', \"couldn't\", 'just', 'did', 'him', 'not', \"shouldn't\", 'than', 'no', 'doesn', 'has', \"didn't\", \"won't\", 'until', 'all', 'your', 'does', 'o', 'those', 'yourself', 's', 'out', 'whom', 'the', 'down', 'of', 'themselves', 'both', 'about', 'will', 'most', 'same', 'won', 'now', 'below', \"mustn't\", 'nor', 'hadn', 'be', 'yours', 'shan', 'while', 'if', 'hers', 'ain', 'when', 'didn', \"you'll\", 'which', 'this', 'hasn', 'against', 'for', \"aren't\", 'or', 'on', 'am', 'there', 'been', 'above', 'm', 'so', \"that'll\", 'd', 'these', 'off', \"needn't\", 'between', 'll', \"wouldn't\", 'through', 'after', 'only', 'is', 'don', 're', 'before', \"you're\", 'other', 'because', 'isn', 'too', 'with', 'couldn', 'under', 'here', \"she's\", 'being', 'we', 'by', 'ma', \"shan't\", 'why', \"isn't\", 'then', 'shouldn', 'theirs', 'our', 'wouldn', 'ours', 'an', 'you', 'do', \"weren't\", 'some', \"hasn't\", 'yourselves', 'a', 'what', 'further', 'she', 'who', 'very', 'mustn', \"it's\", 'itself', 'ourselves', 'its', \"you'd\", 'y', 'wasn', 'again', 'are', 'more', 'it', 'during', 'needn', 'once', 'such', 'can', 'aren', 'had', 'myself', 'doing', 'should', 'that', 'me', \"should've\", 'where', 've', 't', \"doesn't\", 'was', 'up', 'were', 'to', \"hadn't\", 'haven', \"don't\", \"you've\", 'how', 'and'}\n"
     ]
    }
   ],
   "source": [
    "import nltk\n",
    "from nltk.corpus import stopwords\n",
    "from nltk.tokenize import word_tokenize\n",
    "example_sent = 'This is an example showing off stop word filtrations.'\n",
    "stop_words = set(stopwords.words('english'))\n",
    "print(stop_words)"
   ]
  },
  {
   "cell_type": "code",
   "execution_count": 17,
   "metadata": {},
   "outputs": [
    {
     "name": "stdout",
     "output_type": "stream",
     "text": [
      "['This', 'example', 'showing', 'stop', 'word', 'filtrations', '.']\n"
     ]
    }
   ],
   "source": [
    "words = word_tokenize(example_sent)\n",
    "filtered_sent = []\n",
    "for w in words:\n",
    "    if w not in stop_words:\n",
    "        filtered_sent.append(w)\n",
    "        \n",
    "print(filtered_sent)"
   ]
  },
  {
   "cell_type": "code",
   "execution_count": 19,
   "metadata": {},
   "outputs": [
    {
     "name": "stdout",
     "output_type": "stream",
     "text": [
      "['This', 'example', 'showing', 'stop', 'word', 'filtrations', '.']\n"
     ]
    }
   ],
   "source": [
    "filtered_sentence = [w for w in words if w not in stop_words]\n",
    "print(filtered_sentence)"
   ]
  },
  {
   "cell_type": "code",
   "execution_count": 21,
   "metadata": {},
   "outputs": [
    {
     "name": "stdout",
     "output_type": "stream",
     "text": [
      "python\npython\npythonli\npython\npython\n"
     ]
    }
   ],
   "source": [
    "from nltk.stem import PorterStemmer\n",
    "from nltk.tokenize import word_tokenize\n",
    "ps = PorterStemmer()\n",
    "example_words = ['python', 'pythoning','pythonly','pythoner','pythoned']\n",
    "for w in example_words:\n",
    "    print(ps.stem(w))"
   ]
  },
  {
   "cell_type": "code",
   "execution_count": 22,
   "metadata": {},
   "outputs": [
    {
     "name": "stdout",
     "output_type": "stream",
     "text": [
      "it\nis\nveri\nimport\nto\nbe\npythonli\nwhile\nyou\nare\npython\nwith\npython\n.\nall\npython\nhave\npython\npoorli\nat\nleast\nonc\n.\n"
     ]
    }
   ],
   "source": [
    "new_text = 'it is very important to be pythonly while you are pythoning with python. All pythoners have pythoned poorly at least once.'\n",
    "words = word_tokenize(new_text)\n",
    "for w in words:\n",
    "    print(ps.stem(w))"
   ]
  },
  {
   "cell_type": "code",
   "execution_count": 31,
   "metadata": {},
   "outputs": [],
   "source": [
    "from nltk.corpus import state_union     # import the state of the union corpus\n",
    "from nltk.tokenize import PunktSentenceTokenizer        # import the sentence tokenizer\n",
    "train_text = state_union.raw('2005-GWBush.txt')         # assign the training text for the tokenizer\n",
    "sample_text = state_union.raw('2006-GWBush.txt')        # assign the working text\n",
    "custom_sent_tokenizer = PunktSentenceTokenizer(train_text)      # train a custom tokenizer\n",
    "tokenized = custom_sent_tokenizer.tokenize(sample_text)     # tokenize the working text into a list of sentences"
   ]
  },
  {
   "cell_type": "code",
   "execution_count": 28,
   "metadata": {},
   "outputs": [],
   "source": [
    "def process_content():      # We are going to process the content\n",
    "    try:\n",
    "        for i in tokenized:         # for each sentence token in the list 'tokenized'\n",
    "            words = nltk.word_tokenize(i)       # create a list of word tokens from the sentence\n",
    "            tagged = nltk.pos_tag(words)    # POStag each word into a tuple (within list)\n",
    "            \n",
    "            # print(tagged)   # print the sentence as a list of tupled words with tags\n",
    "            \n",
    "    except Exception as e:\n",
    "        print(str(e))\n",
    "process_content()"
   ]
  },
  {
   "cell_type": "code",
   "execution_count": 36,
   "metadata": {},
   "outputs": [],
   "source": [
    "train_text = state_union.raw('2005-GWBush.txt')         # assign the training text for the tokenizer\n",
    "sample_text = state_union.raw('2006-GWBush.txt')        # assign the working text\n",
    "custom_sent_tokenizer = PunktSentenceTokenizer(train_text)      # train a custom tokenizer\n",
    "tokenized = custom_sent_tokenizer.tokenize(sample_text) \n",
    "def process_content():      # We are going to process the content\n",
    "    try:\n",
    "        for i in tokenized:         # for each sentence token in the list 'tokenized'\n",
    "            words = nltk.word_tokenize(i)       # create a list of word tokens from the sentence\n",
    "            tagged = nltk.pos_tag(words)    # POStag each word into a tuple (within list)\n",
    "            \n",
    "            chunkGram = r\"\"\"Chunk: {<RB.?>*<VB.?>*<NNP>+<NN>?}\"\"\"\n",
    "            \n",
    "            chunkParser = nltk.RegexpParser(chunkGram)\n",
    "            chunked = chunkParser.parse(tagged)  # parse the tagged tuple-list with the trained Regex\n",
    "            \n",
    "            #print(chunked)\n",
    "    except Exception as e:\n",
    "        print(str(e))\n",
    "process_content()\n",
    "\n",
    "            "
   ]
  },
  {
   "cell_type": "code",
   "execution_count": 40,
   "metadata": {},
   "outputs": [],
   "source": [
    "train_text = state_union.raw('2005-GWBush.txt')         # assign the training text for the tokenizer\n",
    "sample_text = state_union.raw('2006-GWBush.txt')        # assign the working text\n",
    "custom_sent_tokenizer = PunktSentenceTokenizer(train_text)      # train a custom tokenizer\n",
    "tokenized = custom_sent_tokenizer.tokenize(sample_text) \n",
    "def process_content():      # We are going to process the content\n",
    "    try:\n",
    "        for i in tokenized:         # for each sentence token in the list 'tokenized'\n",
    "            words = nltk.word_tokenize(i)       # create a list of word tokens from the sentence\n",
    "            tagged = nltk.pos_tag(words)    # POStag each word into a tuple (within list)\n",
    "            \n",
    "            namedEnt = nltk.ne_chunk(tagged)\n",
    "            #namedEnt.draw()\n",
    "    except Exception as e:\n",
    "        print(str(e))\n",
    "process_content()"
   ]
  },
  {
   "cell_type": "code",
   "execution_count": 42,
   "metadata": {},
   "outputs": [
    {
     "name": "stdout",
     "output_type": "stream",
     "text": [
      "cat\ncactus\nsalmon\nbetter\ngood\nrun\nrun\ncat\ncat\n"
     ]
    }
   ],
   "source": [
    "from nltk.stem import WordNetLemmatizer\n",
    "lemmatizer = WordNetLemmatizer()\n",
    "print(lemmatizer.lemmatize('cats'))\n",
    "print(lemmatizer.lemmatize('cacti'))\n",
    "print(lemmatizer.lemmatize('salmon'))\n",
    "print(lemmatizer.lemmatize('better'))\n",
    "print(lemmatizer.lemmatize('better', pos='a'))\n",
    "print(lemmatizer.lemmatize('run'))\n",
    "print(lemmatizer.lemmatize('run','v'))\n",
    "print(lemmatizer.lemmatize('cats'))\n",
    "print(lemmatizer.lemmatize('cats'))"
   ]
  },
  {
   "cell_type": "code",
   "execution_count": 43,
   "metadata": {},
   "outputs": [
    {
     "name": "stdout",
     "output_type": "stream",
     "text": [
      "__main__\n"
     ]
    }
   ],
   "source": [
    "print(__name__)"
   ]
  },
  {
   "cell_type": "code",
   "execution_count": 48,
   "metadata": {},
   "outputs": [
    {
     "name": "stdout",
     "output_type": "stream",
     "text": [
      "['1:5 And God called the light Day, and the darkness he called Night.', 'And the evening and the morning were the first day.', '1:6 And God said, Let there be a firmament in the midst of the waters,\\nand let it divide the waters from the waters.', '1:7 And God made the firmament, and divided the waters which were\\nunder the firmament from the waters which were above the firmament:\\nand it was so.', '1:8 And God called the firmament Heaven.', 'And the evening and the\\nmorning were the second day.', '1:9 And God said, Let the waters under the heaven be gathered together\\nunto one place, and let the dry land appear: and it was so.', '1:10 And God called the dry land Earth; and the gathering together of\\nthe waters called he Seas: and God saw that it was good.', '1:11 And God said, Let the earth bring forth grass, the herb yielding\\nseed, and the fruit tree yielding fruit after his kind, whose seed is\\nin itself, upon the earth: and it was so.', '1:12 And the earth brought forth grass, and herb yielding seed after\\nhis kind, and the tree yielding fruit, whose seed was in itself, after\\nhis kind: and God saw that it was good.']\n"
     ]
    }
   ],
   "source": [
    "from nltk.corpus import gutenberg\n",
    "from nltk.tokenize import sent_tokenize\n",
    "\n",
    "sample = gutenberg.raw('bible-kjv.txt')\n",
    "tok = sent_tokenize(sample)\n",
    "print(tok[5:15])"
   ]
  },
  {
   "cell_type": "code",
   "execution_count": 52,
   "metadata": {},
   "outputs": [
    {
     "name": "stdout",
     "output_type": "stream",
     "text": [
      "[The King \n"
     ]
    },
    {
     "name": "stdout",
     "output_type": "stream",
     "text": [
      "[The King James Bible]\n\nThe Old Testament of the King James Bible\n\nThe First Book of Moses:  Called Genesis\n\n\n1:1 In the beginning God created the heaven and the earth.\n"
     ]
    }
   ],
   "source": [
    "from nltk.corpus import gutenberg\n",
    "from nltk.tokenize import sent_tokenize\n",
    "\n",
    "sample = gutenberg.raw('bible-kjv.txt')     # assigns sample to the string of the entire doc\n",
    "# print(sample[0:10])                       # debugging\n",
    "tok = sent_tokenize(sample)                 # splits the string into lists of sentences\n",
    "print(tok[0])                               # prints the first sentence/punctuation break"
   ]
  },
  {
   "cell_type": "code",
   "execution_count": 53,
   "metadata": {},
   "outputs": [],
   "source": [
    "from nltk.corpus import wordnet"
   ]
  },
  {
   "cell_type": "code",
   "execution_count": 54,
   "metadata": {},
   "outputs": [
    {
     "name": "stdout",
     "output_type": "stream",
     "text": [
      "[Synset('plan.n.01'), Synset('program.n.02'), Synset('broadcast.n.02'), Synset('platform.n.02'), Synset('program.n.05'), Synset('course_of_study.n.01'), Synset('program.n.07'), Synset('program.n.08'), Synset('program.v.01'), Synset('program.v.02')]\n"
     ]
    }
   ],
   "source": [
    "syns = wordnet.synsets('program')\n",
    "print(syns)"
   ]
  },
  {
   "cell_type": "code",
   "execution_count": null,
   "metadata": {},
   "outputs": [],
   "source": []
  }
 ],
 "metadata": {
  "kernelspec": {
   "display_name": "Python 2",
   "language": "python",
   "name": "python2"
  },
  "language_info": {
   "codemirror_mode": {
    "name": "ipython",
    "version": 2
   },
   "file_extension": ".py",
   "mimetype": "text/x-python",
   "name": "python",
   "nbconvert_exporter": "python",
   "pygments_lexer": "ipython2",
   "version": "2.7.6"
  }
 },
 "nbformat": 4,
 "nbformat_minor": 0
}
