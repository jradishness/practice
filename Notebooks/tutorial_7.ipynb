{
 "cells": [
  {
   "cell_type": "code",
   "execution_count": 1,
   "metadata": {
    "collapsed": true
   },
   "outputs": [],
   "source": [
    "import re"
   ]
  },
  {
   "cell_type": "code",
   "execution_count": 2,
   "metadata": {},
   "outputs": [],
   "source": [
    "f = open('alice_in_wonderland.txt')"
   ]
  },
  {
   "cell_type": "code",
   "execution_count": 3,
   "metadata": {},
   "outputs": [
    {
     "name": "stdout",
     "output_type": "stream",
     "text": [
      "a Hatter: and in THAT direction,’ waving the other paw, ‘lives a March\nwish I’d gone to see the Hatter instead!’\nMarch Hare and the Hatter were having tea at it: a Dormouse was sitting\n‘Your hair wants cutting,’ said the Hatter. He had been looking at Alice\nThe Hatter opened his eyes very wide on hearing this; but all he SAID\n‘Not the same thing a bit!’ said the Hatter. ‘You might just as well say\n‘It IS the same thing with you,’ said the Hatter, and here the\nThe Hatter was the first to break the silence. ‘What day of the month\n‘Two days wrong!’ sighed the Hatter. ‘I told you butter wouldn’t suit\n‘Yes, but some crumbs must have got in as well,’ the Hatter grumbled:\n‘Why should it?’ muttered the Hatter. ‘Does YOUR watch tell you what\n‘Which is just the case with MINE,’ said the Hatter.\nAlice felt dreadfully puzzled. The Hatter’s remark seemed to have no\n‘The Dormouse is asleep again,’ said the Hatter, and he poured a little\n‘Have you guessed the riddle yet?’ the Hatter said, turning to Alice\n‘I haven’t the slightest idea,’ said the Hatter.\n‘If you knew Time as well as I do,’ said the Hatter, ‘you wouldn’t talk\n‘Of course you don’t!’ the Hatter said, tossing his head contemptuously.\n‘Ah! that accounts for it,’ said the Hatter. ‘He won’t stand beating.\n‘Not at first, perhaps,’ said the Hatter: ‘but you could keep it to\nThe Hatter shook his head mournfully. ‘Not I!’ he replied. ‘We\n‘It goes on, you know,’ the Hatter continued, ‘in this way:--\n‘Well, I’d hardly finished the first verse,’ said the Hatter, ‘when the\n‘And ever since that,’ the Hatter went on in a mournful tone, ‘he won’t\n‘Yes, that’s it,’ said the Hatter with a sigh: ‘it’s always tea-time,\n‘Exactly so,’ said the Hatter: ‘as the things get used up.’\n‘And be quick about it,’ added the Hatter, ‘or you’ll be asleep again\n‘You mean you can’t take LESS,’ said the Hatter: ‘it’s very easy to take\n‘Who’s making personal remarks now?’ the Hatter asked triumphantly.\nHatter and the March Hare went ‘Sh! sh!’ and the Dormouse sulkily\n‘I want a clean cup,’ interrupted the Hatter: ‘let’s all move one place\nthe place of the March Hare. The Hatter was the only one who got any\n‘You can draw water out of a water-well,’ said the Hatter; ‘so I should\na doze; but, on being pinched by the Hatter, it woke up again with\n‘Then you shouldn’t talk,’ said the Hatter.\nThe first witness was the Hatter. He came in with a teacup in one\nThe Hatter looked at the March Hare, who had followed him into the\n‘Take off your hat,’ the King said to the Hatter.\n‘It isn’t mine,’ said the Hatter.\n‘I keep them to sell,’ the Hatter added as an explanation; ‘I’ve none of\nHere the Queen put on her spectacles, and began staring at the Hatter,\nAll this time the Queen had never left off staring at the Hatter, and,\nwhich the wretched Hatter trembled so, that he shook both his shoes off.\n‘I’m a poor man, your Majesty,’ the Hatter began, in a trembling voice,\n‘It began with the tea,’ the Hatter replied.\n‘I’m a poor man,’ the Hatter went on, ‘and most things twinkled after\n‘You did!’ said the Hatter.\n‘Well, at any rate, the Dormouse said--’ the Hatter went on, looking\n‘After that,’ continued the Hatter, ‘I cut some more bread-and-butter--’\n‘That I can’t remember,’ said the Hatter.\nThe miserable Hatter dropped his teacup and bread-and-butter, and went\n‘I can’t go no lower,’ said the Hatter: ‘I’m on the floor, as it is.’\n‘I’d rather finish my tea,’ said the Hatter, with an anxious look at the\n‘You may go,’ said the King, and the Hatter hurriedly left the court,\nofficers: but the Hatter was out of sight before the officer could get\n"
     ]
    }
   ],
   "source": [
    "alice_lines = f.readlines()\n",
    "alice_lines = [l.strip() for l in alice_lines]\n",
    "f.close()\n",
    "\n",
    "for line in alice_lines:\n",
    "    if re.search('Hatter', line):\n",
    "        print(line)"
   ]
  },
  {
   "cell_type": "code",
   "execution_count": 6,
   "metadata": {},
   "outputs": [
    {
     "name": "stdout",
     "output_type": "stream",
     "text": [
      "begun asking riddles.--I believe I can guess that,’ she added aloud.\n‘Have you guessed the riddle yet?’ the Hatter said, turning to Alice\ntime,’ she said, ‘than waste it in asking riddles that have no answers.’\n"
     ]
    }
   ],
   "source": [
    "for line in alice_lines:\n",
    "    if re.search('riddle', line):\n",
    "        print( line )"
   ]
  },
  {
   "cell_type": "code",
   "execution_count": 7,
   "metadata": {},
   "outputs": [
    {
     "name": "stdout",
     "output_type": "stream",
     "text": [
      "not got into it), and handed them round as prizes. There was exactly one\nferrets! Where CAN I have dropped them, I wonder?’ Alice guessed in a\ncame, carried on the breeze that followed them, the melancholy words:--\nwrote down all three dates on their slates, and then added them up, and\nDon’t let him know she liked them best,\n"
     ]
    }
   ],
   "source": [
    "for line in alice_lines:\n",
    "    if re.search('ed them', line): print(line)"
   ]
  },
  {
   "cell_type": "code",
   "execution_count": 9,
   "metadata": {},
   "outputs": [
    {
     "name": "stdout",
     "output_type": "stream",
     "text": [
      "a Hatter: and in THAT direction,’ waving the other paw, ‘lives a March\nwhich the March Hare was said to live. ‘I’ve seen hatters before,’ she\nwish I’d gone to see the Hatter instead!’\nMarch Hare and the Hatter were having tea at it: a Dormouse was sitting\n‘Your hair wants cutting,’ said the Hatter. He had been looking at Alice\nThe Hatter opened his eyes very wide on hearing this; but all he SAID\n‘Not the same thing a bit!’ said the Hatter. ‘You might just as well say\n‘It IS the same thing with you,’ said the Hatter, and here the\nThe Hatter was the first to break the silence. ‘What day of the month\n‘Two days wrong!’ sighed the Hatter. ‘I told you butter wouldn’t suit\n‘Yes, but some crumbs must have got in as well,’ the Hatter grumbled:\n‘Why should it?’ muttered the Hatter. ‘Does YOUR watch tell you what\n‘Which is just the case with MINE,’ said the Hatter.\nAlice felt dreadfully puzzled. The Hatter’s remark seemed to have no\n‘The Dormouse is asleep again,’ said the Hatter, and he poured a little\n‘Have you guessed the riddle yet?’ the Hatter said, turning to Alice\n‘I haven’t the slightest idea,’ said the Hatter.\n‘If you knew Time as well as I do,’ said the Hatter, ‘you wouldn’t talk\n‘Of course you don’t!’ the Hatter said, tossing his head contemptuously.\n‘Ah! that accounts for it,’ said the Hatter. ‘He won’t stand beating.\n‘Not at first, perhaps,’ said the Hatter: ‘but you could keep it to\nThe Hatter shook his head mournfully. ‘Not I!’ he replied. ‘We\n‘It goes on, you know,’ the Hatter continued, ‘in this way:--\n‘Well, I’d hardly finished the first verse,’ said the Hatter, ‘when the\n‘And ever since that,’ the Hatter went on in a mournful tone, ‘he won’t\n‘Yes, that’s it,’ said the Hatter with a sigh: ‘it’s always tea-time,\n‘Exactly so,’ said the Hatter: ‘as the things get used up.’\n‘And be quick about it,’ added the Hatter, ‘or you’ll be asleep again\n‘You mean you can’t take LESS,’ said the Hatter: ‘it’s very easy to take\n‘Who’s making personal remarks now?’ the Hatter asked triumphantly.\nHatter and the March Hare went ‘Sh! sh!’ and the Dormouse sulkily\n‘I want a clean cup,’ interrupted the Hatter: ‘let’s all move one place\nthe place of the March Hare. The Hatter was the only one who got any\n‘You can draw water out of a water-well,’ said the Hatter; ‘so I should\na doze; but, on being pinched by the Hatter, it woke up again with\n‘Then you shouldn’t talk,’ said the Hatter.\nThe first witness was the Hatter. He came in with a teacup in one\nThe Hatter looked at the March Hare, who had followed him into the\n‘Take off your hat,’ the King said to the Hatter.\n‘It isn’t mine,’ said the Hatter.\n‘I keep them to sell,’ the Hatter added as an explanation; ‘I’ve none of\nmy own. I’m a hatter.’\nHere the Queen put on her spectacles, and began staring at the Hatter,\nAll this time the Queen had never left off staring at the Hatter, and,\nwhich the wretched Hatter trembled so, that he shook both his shoes off.\n‘I’m a poor man, your Majesty,’ the Hatter began, in a trembling voice,\n‘It began with the tea,’ the Hatter replied.\n‘I’m a poor man,’ the Hatter went on, ‘and most things twinkled after\n‘You did!’ said the Hatter.\n‘Well, at any rate, the Dormouse said--’ the Hatter went on, looking\n‘After that,’ continued the Hatter, ‘I cut some more bread-and-butter--’\n‘That I can’t remember,’ said the Hatter.\nThe miserable Hatter dropped his teacup and bread-and-butter, and went\n‘I can’t go no lower,’ said the Hatter: ‘I’m on the floor, as it is.’\n‘I’d rather finish my tea,’ said the Hatter, with an anxious look at the\n‘You may go,’ said the King, and the Hatter hurriedly left the court,\nofficers: but the Hatter was out of sight before the officer could get\n"
     ]
    }
   ],
   "source": [
    "for line in alice_lines:\n",
    "    if re.search('[Hh]atter', line): print(line)"
   ]
  },
  {
   "cell_type": "code",
   "execution_count": 10,
   "metadata": {},
   "outputs": [
    {
     "name": "stdout",
     "output_type": "stream",
     "text": [
      "55\n"
     ]
    }
   ],
   "source": [
    "counter = 0\n",
    "for line in alice_lines:\n",
    "    if re.search('Hatter', line):\n",
    "        counter +=1\n",
    "print(counter)"
   ]
  },
  {
   "cell_type": "code",
   "execution_count": 11,
   "metadata": {},
   "outputs": [
    {
     "name": "stdout",
     "output_type": "stream",
     "text": [
      "209\n"
     ]
    }
   ],
   "source": [
    "counter = 0\n",
    "for line in alice_lines:\n",
    "    if re.search(\"t[aeiou][aeiou]n\", line):\n",
    "        \n",
    "        counter += 1\n",
    "print(counter)"
   ]
  },
  {
   "cell_type": "code",
   "execution_count": 4,
   "metadata": {},
   "outputs": [
    {
     "ename": "SyntaxError",
     "evalue": "unexpected EOF while parsing (<ipython-input-4-c218323372a3>, line 5)",
     "traceback": [
      "\u001b[0;36m  File \u001b[0;32m\"<ipython-input-4-c218323372a3>\"\u001b[0;36m, line \u001b[0;32m5\u001b[0m\n\u001b[0;31m    #print(line)\u001b[0m\n\u001b[0m                ^\u001b[0m\n\u001b[0;31mSyntaxError\u001b[0m\u001b[0;31m:\u001b[0m unexpected EOF while parsing\n"
     ],
     "output_type": "error"
    }
   ],
   "source": [
    "\n",
    "for line in alice_lines:\n",
    "    if re.search(\"t[aeiou][aeiou]n\\s\", line):\n",
    "\n",
    "        #print(line)"
   ]
  },
  {
   "cell_type": "code",
   "execution_count": 13,
   "metadata": {},
   "outputs": [
    {
     "name": "stdout",
     "output_type": "stream",
     "text": [
      "Posting Date: June 25, 2008 [EBook #11]\nRelease Date: March, 1994\nLast Updated: October 6, 2016\nremain freely available for generations to come.  In 2001, the Project\n501(c)(3) educational corporation organized under the laws of the\nnumber is 64-6221541.  Its 501(c)(3) letter is posted at\nThe Foundation’s principal office is located at 4557 Melan Dr. S.\nFairbanks, AK, 99712., but its volunteers and employees are scattered\n809 North 1500 West, Salt Lake City, UT 84116, (801) 596-1887, email\n($1 to $5,000) are particularly important to maintaining tax exempt\n"
     ]
    }
   ],
   "source": [
    "for line in alice_lines:\n",
    "    if re.search('\\d\\d\\d', line): print(line)"
   ]
  },
  {
   "cell_type": "code",
   "execution_count": 14,
   "metadata": {},
   "outputs": [
    {
     "name": "stdout",
     "output_type": "stream",
     "text": [
      "she passed; it was labelled ‘ORANGE MARMALADE’, but to her great\nbegged the Mouse to tell them something more.\nQueen jumped up and bawled out, “He’s murdering the time! Off with his\n‘They were obliged to have him with them,’ the Mock Turtle said: ‘no\n(she was obliged to say ‘creatures,’ you see, because some of them were\nobliged to write with one finger for the rest of the day; and this was\n"
     ]
    }
   ],
   "source": [
    "for line in alice_lines:\n",
    "    if re.search('b\\w\\w\\wed', line): print(line)"
   ]
  },
  {
   "cell_type": "code",
   "execution_count": 15,
   "metadata": {},
   "outputs": [
    {
     "name": "stdout",
     "output_type": "stream",
     "text": [
      "she passed; it was labelled ‘ORANGE MARMALADE’, but to her great\nbegged the Mouse to tell them something more.\nQueen jumped up and bawled out, “He’s murdering the time! Off with his\n‘They were obliged to have him with them,’ the Mock Turtle said: ‘no\n(she was obliged to say ‘creatures,’ you see, because some of them were\nobliged to write with one finger for the rest of the day; and this was\n"
     ]
    }
   ],
   "source": [
    "for line in alice_lines:\n",
    "    if re.search('b...ed', line): print(line)\n",
    "        "
   ]
  },
  {
   "cell_type": "code",
   "execution_count": 16,
   "metadata": {},
   "outputs": [
    {
     "name": "stdout",
     "output_type": "stream",
     "text": [
      "remark that had made the whole party look so grave and anxious.)\nand said ‘That’s very curious.’\n"
     ]
    }
   ],
   "source": [
    "for line in alice_lines:\n",
    "    if re.search('ous\\.', line): print(line)"
   ]
  },
  {
   "cell_type": "code",
   "execution_count": 23,
   "metadata": {},
   "outputs": [
    {
     "name": "stdout",
     "output_type": "stream",
     "text": [
      "1470\n"
     ]
    }
   ],
   "source": [
    "counter = 0\n",
    "for line in alice_lines:\n",
    "    if re.search(\"(in)+\", line): \n",
    "        counter += 1\n",
    "print(counter)\n",
    "        "
   ]
  },
  {
   "cell_type": "code",
   "execution_count": 24,
   "metadata": {},
   "outputs": [
    {
     "name": "stdout",
     "output_type": "stream",
     "text": [
      "she looked up, but it was all dark overhead; before her was another\nshall only look up and say “Who am I then? Tell me that first, and then,\na little pattering of footsteps in the distance, and she looked up\nthe trees, a little sharp bark just over her head made her look up in a\nHe was looking up into the sky all the time he was speaking, and this\nit was in March.’ As she said this, she looked up, and there was the Cat\nOn which Seven looked up and said, ‘That’s right, Five! Always lay the\nblow with its head, it WOULD twist itself round and look up in her face,\ninto hers began to tremble. Alice looked up, and there stood the Queen\n"
     ]
    }
   ],
   "source": [
    "for line in alice_lines:\n",
    "    if re.search('look.*up', line): print(line)"
   ]
  },
  {
   "cell_type": "code",
   "execution_count": 25,
   "metadata": {},
   "outputs": [
    {
     "name": "stdout",
     "output_type": "stream",
     "text": [
      "‘In that case,’ said the Dodo solemnly, rising to its feet, ‘I move\nOn various pretexts they all moved off, and Alice was soon left alone.\nroof off.’ After a minute or two, they began moving about again, and\nShe was moving them about as she spoke, but no result seemed to follow,\n‘Then you keep moving round, I suppose?’ said Alice.\n‘I want a clean cup,’ interrupted the Hatter: ‘let’s all move one place\nHe moved on as he spoke, and the Dormouse followed him: the March Hare\nmoved into the Dormouse’s place, and Alice rather unwillingly took\n‘Off with their heads!’ and the procession moved on, three of the\n‘Well, it must be removed,’ said the King very decidedly, and he called\nhave this cat removed!’\ntail about in a melancholy way, being quite unable to move. She soon got\nmoved.\nare removed.  Of course, we hope that you will support the Project\n1.E.  Unless you have removed all references to Project Gutenberg:\n1.E.4.  Do not unlink or detach or remove the full Project Gutenberg-tm\n"
     ]
    }
   ],
   "source": [
    "for line in alice_lines:\n",
    "    if re.search('mov(es|ed|ing|e)',line): print(line)"
   ]
  },
  {
   "cell_type": "code",
   "execution_count": 6,
   "metadata": {},
   "outputs": [],
   "source": [
    "for line in alice_lines:\n",
    "    if re.search('\\w{7}\\w*', line): #print(line)\n",
    "        pass\n",
    "    "
   ]
  },
  {
   "cell_type": "code",
   "execution_count": 35,
   "metadata": {},
   "outputs": [],
   "source": [
    "for line in alice_lines:\n",
    "    if re.search('[a-zA-Z]{4}', line): print(line)"
   ]
  },
  {
   "cell_type": "code",
   "execution_count": 37,
   "metadata": {},
   "outputs": [],
   "source": [
    "cons4 = \"this string has a word of 4 straight consonants ttttt\""
   ]
  },
  {
   "cell_type": "code",
   "execution_count": 48,
   "metadata": {},
   "outputs": [
    {
     "name": "stdout",
     "output_type": "stream",
     "text": [
      "this string has a word of 4 straight consonants ttttt\n"
     ]
    }
   ],
   "source": [
    "if re.search('[[qwrtyplkjhgfdszxcvbnmQWRTYPSDFGHJLKZXCVBNM]{4}', cons4):\n",
    "    print(cons4)"
   ]
  },
  {
   "cell_type": "code",
   "execution_count": 43,
   "metadata": {},
   "outputs": [
    {
     "name": "stdout",
     "output_type": "stream",
     "text": [
      "this string has a word of 4 straight consonants ttttt\n"
     ]
    }
   ],
   "source": [
    "print(cons4)"
   ]
  },
  {
   "cell_type": "code",
   "execution_count": 8,
   "metadata": {},
   "outputs": [
    {
     "name": "stdout",
     "output_type": "stream",
     "text": [
      "This eBook is for the use of anyone anywhere at no cost and with\nshe was coming to, but it was too dark to see anything; then she\ndisappointment it was empty: she did not like to drop the jar for fear\nhome! Why, I wouldn’t say anything about it, even if I fell off the top\nPresently she began again. ‘I wonder if I shall fall right THROUGH the\nright word) ‘--but I shall have to ask them what the name of the country\nDinah, and saying to her very earnestly, ‘Now, Dinah, tell me the truth:\nrather sharply; ‘I advise you to leave off this minute!’ She generally\nWhy, there’s hardly enough of me left to make ONE respectable person!’\nHEARTHRUG,\nThe Rabbit started violently, dropped the white kid gloves and the fan,\nqueer everything is to-day! And yesterday things went on just as usual.\nWith gently smiling jaws!’\nHowever, everything is queer to-day.’\nEverything is so out-of-the-way down here, that I should think very\nanything had happened.) So she began again: ‘Ou est ma chatte?’ which\n‘Well, perhaps not,’ said Alice in a soothing tone: ‘don’t be angry\nSo she called softly after it, ‘Mouse dear! Do come back again, and we\nthe patriotic archbishop of Canterbury, found it advisable--“’\n‘Found IT,’ the Mouse replied rather crossly: ‘of course you know what\narchbishop find?’\n‘In that case,’ said the Dodo solemnly, rising to its feet, ‘I move\nand no one else seemed inclined to say anything.\nnot got into it), and handed them round as prizes. There was exactly one\nThen they all crowded round her once more, while the Dodo solemnly\nthat she did not dare to laugh; and, as she could not think of anything\nto say, she simply bowed, and took the thimble, looking as solemn as she\n‘I beg your pardon,’ said Alice very humbly: ‘you had got to the fifth\n‘I had NOT!’ cried the Mouse, sharply and very angrily.\nits head impatiently, and walked a little quicker.\nsnappishly. ‘You’re enough to try the patience of an oyster!’\nnowhere to be seen--everything seemed to have changed since her swim in\ncalled out to her in an angry tone, ‘Why, Mary Ann, what ARE you doing\nhere directly, and get ready for your walk!” “Coming in a minute,\nto herself, ‘whenever I eat or drink anything; so I’ll just see what\nlessons in here? Why, there’s hardly room for YOU, and no room at all\nPresently the Rabbit came up to the door, and tried to open it; but, as\nhand, and made a snatch in the air. She did not get hold of anything,\nNext came an angry voice--the Rabbit’s--‘Pat! Pat! Where are you?’ And\nShe waited for some time without hearing anything more: at last came a\nrumbling of little cartwheels, and the sound of a good many voices\nherself. ‘Shy, they seem to put everything upon Bill! I wouldn’t be in\nAlice,) ‘Well, I hardly know--No more, thank ye; I’m better now--but I’m\nThere was a dead silence instantly, and Alice thought to herself, ‘I\nbegan shrinking directly. As soon as she was small enough to get through\nIt sounded an excellent plan, no doubt, and very neatly and simply\nhungry, in which case it would be very likely to eat her up in spite of\nHardly knowing what she did, she picked up a little bit of stick, and\nthe flowers and the blades of grass, but she did not see anything that\nhookah, and taking not the smallest notice of her or of anything else.\nrather shyly, ‘I--I hardly know, sir, just at present--at least I know\n‘What do you mean by that?’ said the Caterpillar sternly. ‘Explain\nhave to turn into a chrysalis--you will some day, you know--and then\nafter that into a butterfly, I should think you’ll feel it a little\nAnd yet you incessantly stand on your head--\nBut, now that I’m perfectly sure I have none,\nFor anything tougher than suet;\nAnd the muscular strength, which it gave to my jaw,\n‘You are old,’ said the youth, ‘one would hardly suppose\nitself upright as it spoke (it was exactly three inches high).\nThis time Alice waited patiently until it chose to speak again. In\nAlice remained looking thoughtfully at the mushroom for a minute, trying\nto make out which were the two sides of it; and as it was perfectly\nso closely against her foot, that there was hardly room to open her\nan immense length of neck, which seemed to rise like a stalk out of a\nwas beating her violently with its wings.\n‘I’m NOT a serpent!’ said Alice indignantly. ‘Let me alone!’\nsaying anything more till the Pigeon had finished.\nIt was so long since she had been anything near the right size, that it\nrighthand bit again, and did not venture to go near the house till she\nare; secondly, because they’re making such a noise inside, no one could\n‘--or next day, maybe,’ the Footman continued in the same tone, exactly\n‘Anything you like,’ said the Footman, and began whistling.\nperfectly idiotic!’ And she opened the door and went in.\nfire, and at once set to work throwing everything within her reach at\n‘Speak roughly to your little boy,\nthe baby violently up and down, and the poor little thing howled so,\nthat Alice could hardly hear the words:--\nFor he can thoroughly enjoy\nthis creature when I get it home?’ when it grunted again, so violently,\n‘Well, then,’ the Cat went on, ‘you see, a dog growls when it’s angry,\nwag my tail when I’m angry. Therefore I’m mad.’\ncoming. ‘There’s PLENTY of room!’ said Alice indignantly, and she sat\n‘Exactly so,’ said Alice.\nThe Dormouse shook its head impatiently, and said, without opening its\nNow, if you only kept on good terms with him, he’d do almost anything\n‘That would be grand, certainly,’ said Alice thoughtfully: ‘but then--I\nshouldn’t be hungry for it, you know.’\n‘Well, I’d hardly finished the first verse,’ said the Hatter, ‘when the\n‘Exactly so,’ said the Hatter: ‘as the things get used up.’\n‘They couldn’t have done that, you know,’ Alice gently remarked; ‘they’d\n‘Take some more tea,’ the March Hare said to Alice, very earnestly.\n‘Who’s making personal remarks now?’ the Hatter asked triumphantly.\n‘No, please go on!’ Alice said very humbly; ‘I won’t interrupt again. I\n‘One, indeed!’ said the Dormouse indignantly. However, he consented to\nmoved into the Dormouse’s place, and Alice rather unwillingly took\nthings--everything that begins with an M--’\ngreat disgust, and walked off; the Dormouse fell asleep instantly, and\neverything’s curious today. I think I may as well go in at once.’ And in\nout ‘The Queen! The Queen!’ and the three gardeners instantly threw\nwith hearts. Next came the guests, mostly Kings and Queens, and among\nnervous manner, smiling at everything that was said, and went by without\n‘Idiot!’ said the Queen, tossing her head impatiently; and, turning to\ngardeners instantly jumped up, and began bowing to the King, the Queen,\nevidently meant for her.\n‘--likely to win, that it’s hardly worth while finishing the game.’\nall spoke at once, she found it very hard indeed to make out exactly\nThe King’s argument was, that anything that had a head could be\ndisappeared; so the King and the executioner ran wildly up and down\n‘Tut, tut, child!’ said the Duchess. ‘Everything’s got a moral, if only\nDuchess was VERY ugly; and secondly, because she was exactly the\neverything that Alice said; ‘there’s a large mustard-mine near here. And\nsimply--“Never imagine yourself not to be otherwise than what it might\nof everything I’ve said as yet.’\nbirthday presents like that!’ But she did not venture to say it out\n‘I’ve a right to think,’ said Alice sharply, for she was beginning to\nThey very soon came upon a Gryphon, lying fast asleep in the sun.\n(IF you don’t know what a Gryphon is, look at the picture.) ‘Up, lazy\nthe Gryphon. Alice did not quite like the look of the creature, but on\nThe Gryphon sat up and rubbed its eyes: then it watched the Queen till\nshe was out of sight: then it chuckled. ‘What fun!’ said the Gryphon,\n‘Why, SHE,’ said the Gryphon. ‘It’s all her fancy, that: they never\npitied him deeply. ‘What is his sorrow?’ she asked the Gryphon, and the\nGryphon answered, very nearly in the same words as before, ‘It’s all his\n‘This here young lady,’ said the Gryphon, ‘she wants for to know your\nshe waited patiently.\noccasional exclamation of ‘Hjckrrh!’ from the Gryphon, and the constant\n‘When we were little,’ the Mock Turtle went on at last, more calmly,\nadded the Gryphon; and then they both sat silent and looked at poor\nAlice, who felt ready to sink into the earth. At last the Gryphon said\n‘Hold your tongue!’ added the Gryphon, before Alice could speak again.\n‘Certainly not!’ said Alice indignantly.\nThe Gryphon lifted up both its paws in surprise. ‘What! Never heard of\n‘Yes,’ said Alice doubtfully: ‘it means--to--make--anything--prettier.’\n‘Well, then,’ the Gryphon went on, ‘if you don’t know what to uglify is,\n‘Well, there was Mystery,’ the Mock Turtle replied, counting off\nthe subjects on his flappers, ‘--Mystery, ancient and modern, with\nstiff. And the Gryphon never learnt it.’\n‘Hadn’t time,’ said the Gryphon: ‘I went to the Classics master, though.\n‘So he did, so he did,’ said the Gryphon, sighing in his turn; and both\n‘That’s the reason they’re called lessons,’ the Gryphon remarked:\n‘And how did you manage on the twelfth?’ Alice went on eagerly.\n‘That’s enough about lessons,’ the Gryphon interrupted in a very decided\nsaid the Gryphon: and it set to work shaking him and punching him in\nsaid ‘No, never’) ‘--so you can have no idea what a delightful thing a\n‘Why,’ said the Gryphon, ‘you first form into a line along the\n‘THAT generally takes some time,’ interrupted the Gryphon.\n‘Each with a lobster as a partner!’ cried the Gryphon.\n‘--change lobsters, and retire in same order,’ continued the Gryphon.\n‘The lobsters!’ shouted the Gryphon, with a bound into the air.\n‘Swim after them!’ screamed the Gryphon.\n‘Turn a somersault in the sea!’ cried the Mock Turtle, capering wildly\n‘Change lobsters again!’ yelled the Gryphon at the top of its voice.\n‘Come, let’s try the first figure!’ said the Mock Turtle to the Gryphon.\n‘Oh, YOU sing,’ said the Gryphon. ‘I’ve forgotten the words.’\nSo they began solemnly dancing round and round Alice, every now and\n“You can really have no notion how delightful it will be\nSaid he thanked the whiting kindly, but he would not join the dance.\n‘I believe so,’ Alice replied thoughtfully. ‘They have their tails in\nabout the reason and all that,’ he said to the Gryphon.\n‘The reason is,’ said the Gryphon, ‘that they WOULD go with the lobsters\n‘I can tell you more than that, if you like,’ said the Gryphon. ‘Do you\n‘IT DOES THE BOOTS AND SHOES.’ the Gryphon replied very solemnly.\nAlice was thoroughly puzzled. ‘Does the boots and shoes!’ she repeated\n‘Why, what are YOUR shoes done with?’ said the Gryphon. ‘I mean, what\n‘Boots and shoes under the sea,’ the Gryphon went on in a deep voice,\n‘Soles and eels, of course,’ the Gryphon replied rather impatiently:\n‘If I’d been the whiting,’ said Alice, whose thoughts were still running\nwise fish would go anywhere without a porpoise.’\nthe Gryphon added ‘Come, let’s hear some of YOUR adventures.’\n‘No, no! The adventures first,’ said the Gryphon in an impatient tone:\non. Her listeners were perfectly quiet till she got to the part about\n‘It’s all about as curious as it can be,’ said the Gryphon.\n‘It all came different!’ the Mock Turtle repeated thoughtfully. ‘I\nbegin.’ He looked at the Gryphon as if he thought it had some kind of\nGryphon.\nQuadrille, that she hardly knew what she was saying, and the words came\nGryphon.\nwondering if anything would EVER happen in a natural way again.\n‘She can’t explain it,’ said the Gryphon hastily. ‘Go on with the next\n‘Go on with the next verse,’ the Gryphon repeated impatiently: ‘it\nWas kindly permitted to pocket the spoon:\n‘Yes, I think you’d better leave off,’ said the Gryphon: and Alice was\n‘Shall we try another figure of the Lobster Quadrille?’ the Gryphon went\nreplied, so eagerly that the Gryphon said, in a rather offended tone,\nPennyworth only of beautiful Soup?\nPennyworth only of beautiful Soup?\n‘Chorus again!’ cried the Gryphon, and the Mock Turtle had just begun\n‘Come on!’ cried the Gryphon, and, taking Alice by the hand, it hurried\n‘What trial is it?’ Alice panted as she ran; but the Gryphon only\nanswered ‘Come on!’ and ran the faster, while more and more faintly\nand a scroll of parchment in the other. In the very middle of the court\nthat it made Alice quite hungry to look at them--‘I wish they’d get the\nseemed to be no chance of this, so she began looking at everything about\nthe name of nearly everything there. ‘That’s the judge,’ she said to\nit: for she thought, and rightly too, that very few little girls of her\ndoing?’ Alice whispered to the Gryphon. ‘They can’t have anything to put\n‘They’re putting down their names,’ the Gryphon whispered in reply, ‘for\nvery soon found an opportunity of taking it away. She did it so quickly\nunrolled the parchment scroll, and read as follows:--\n‘Stolen!’ the King exclaimed, turning to the jury, who instantly made a\nthe court; but on second thoughts she decided to remain where she was as\nnext to her. ‘I can hardly breathe.’\n‘Don’t talk nonsense,’ said Alice more boldly: ‘you know you’re growing\n‘Of course twinkling begins with a T!’ said the King sharply. ‘Do you\nin the newspapers, at the end of trials, “There was some attempts\n‘Pepper, mostly,’ said the cook.\nbegan picking them up again as quickly as she could, for the accident of\nthem, they set to work very diligently to write out a history of the\nanything but sit with its mouth open, gazing up into the roof of the\n‘Are they in the prisoner’s handwriting?’ asked another of the jurymen.\nExactly as we were.\n‘Why, there they are!’ said the King triumphantly, pointing to the tarts\n‘Never!’ said the Queen furiously, throwing an inkstand at the Lizard\nhead in the lap of her sister, who was gently brushing away some dead\naround it--once more the shriek of the Gryphon, the squeaking of the\nshriek of the Gryphon, and all the other queer noises, would change (she\nLastly, she pictured to herself how this same little sister of hers\nhttp://www.gutenberg.org/1/11/\nset forth in the General Terms of Use part of this license, apply to\ndo not charge anything for copies of this eBook, complying with the\npractically ANYTHING with public domain eBooks.  Redistribution is\nGutenberg”), you agree to comply with all the terms of the Full Project\nhttp://gutenberg.org/license).\neven without complying with the full terms of this agreement.  See\nthe work.  You can easily comply with the terms of this agreement by\nthe laws of your country in addition to the terms of this agreement\nthe copyright status of any work in any country outside the United\naccess to, the full Project Gutenberg-tm License must appear prominently\nThis eBook is for the use of anyone anywhere at no cost and with\nwork, you must comply either with the requirements of paragraphs 1.E.1\nmust comply with both paragraphs 1.E.1 through 1.E.7 and any additional\nprominently displaying the sentence set forth in paragraph 1.E.1 with\nunless you comply with paragraph 1.E.8 or 1.E.9.\ndestroy all copies of the works possessed in a physical medium\n- You comply with all other terms of this agreement for free\neffort to identify, do copyright research on, transcribe and proofread\ncorrupt data, transcription errors, a copyright or other intellectual\nreceived the work on a physical medium, you must return the medium with\nthat arise directly or indirectly from any of the following which you do\nand the Foundation web page at http://www.pglaf.org.\nhttp://pglaf.org/fundraising.  Contributions to the Project Gutenberg\npage at http://pglaf.org\nThe Foundation is committed to complying with the laws regulating\nparticular state visit http://pglaf.org\nTo donate, please visit: http://pglaf.org/donate\nhttp://www.gutenberg.org\nsubscribe to our email newsletter to hear about new eBooks.\n"
     ]
    }
   ],
   "source": [
    "for line in alice_lines:\n",
    "    if re.search(\"[^AEIOUaeiou\\d\\s\\W]{4}\", line): \n",
    "        print(line)\n"
   ]
  },
  {
   "cell_type": "code",
   "execution_count": null,
   "metadata": {},
   "outputs": [],
   "source": []
  },
  {
   "cell_type": "code",
   "execution_count": 12,
   "metadata": {},
   "outputs": [
    {
     "name": "stdout",
     "output_type": "stream",
     "text": [
      "4\n"
     ]
    }
   ],
   "source": [
    "wordlis = ['hello', 'pfftt', 'thats not right', 'arggh']\n",
    "print(len(wordlis))"
   ]
  },
  {
   "cell_type": "code",
   "execution_count": 28,
   "metadata": {},
   "outputs": [
    {
     "name": "stdout",
     "output_type": "stream",
     "text": [
      "pfftt\narggh\n"
     ]
    }
   ],
   "source": [
    "for line in wordlis:\n",
    "    if re.search('[^aeiouAEIOU\\d\\s\\W'']{4}', line):\n",
    "        print(line)"
   ]
  },
  {
   "cell_type": "code",
   "execution_count": 8,
   "metadata": {},
   "outputs": [],
   "source": [
    "numlist = ['123', '3.1415', '0.5', '.5', '-10', '-543.23934896']"
   ]
  },
  {
   "cell_type": "code",
   "execution_count": 2,
   "metadata": {},
   "outputs": [
    {
     "name": "stdout",
     "output_type": "stream",
     "text": [
      "[123, 3.1415, 0.5, 0.5, -10, -543.23934896]\n"
     ]
    }
   ],
   "source": [
    "print(numlist)"
   ]
  },
  {
   "cell_type": "code",
   "execution_count": 16,
   "metadata": {},
   "outputs": [
    {
     "name": "stdout",
     "output_type": "stream",
     "text": [
      "123\n3.1415\n0.5\n"
     ]
    }
   ],
   "source": [
    "for item in numlist:\n",
    "    if re.search('^\\d', item):\n",
    "        print(item)"
   ]
  },
  {
   "cell_type": "code",
   "execution_count": 18,
   "metadata": {},
   "outputs": [
    {
     "name": "stdout",
     "output_type": "stream",
     "text": [
      "123\n3.1415\n0.5\n.5\n-10\n-543.23934896\n"
     ]
    }
   ],
   "source": [
    "for item in numlist:\n",
    "    if re.search('^-?\\d*\\.?\\d*', item):\n",
    "        print(item)"
   ]
  },
  {
   "cell_type": "code",
   "execution_count": 46,
   "metadata": {},
   "outputs": [
    {
     "name": "stdout",
     "output_type": "stream",
     "text": [
      "HEARTHRUG,\nthe patriotic archbishop of Canterbury, found it advisable--“’\narchbishop find?’\nrumbling of little cartwheels, and the sound of a good many voices\nAnd the muscular strength, which it gave to my jaw,\nAlice remained looking thoughtfully at the mushroom for a minute, trying\nan immense length of neck, which seemed to rise like a stalk out of a\nrighthand bit again, and did not venture to go near the house till she\n‘That would be grand, certainly,’ said Alice thoughtfully: ‘but then--I\nbirthday presents like that!’ But she did not venture to say it out\noccasional exclamation of ‘Hjckrrh!’ from the Gryphon, and the constant\n‘And how did you manage on the twelfth?’ Alice went on eagerly.\nsaid ‘No, never’) ‘--so you can have no idea what a delightful thing a\n“You can really have no notion how delightful it will be\n‘I believe so,’ Alice replied thoughtfully. ‘They have their tails in\n‘If I’d been the whiting,’ said Alice, whose thoughts were still running\n‘It all came different!’ the Mock Turtle repeated thoughtfully. ‘I\nand a scroll of parchment in the other. In the very middle of the court\nit: for she thought, and rightly too, that very few little girls of her\nunrolled the parchment scroll, and read as follows:--\nthe court; but on second thoughts she decided to remain where she was as\nin the newspapers, at the end of trials, “There was some attempts\n‘Are they in the prisoner’s handwriting?’ asked another of the jurymen.\n‘Never!’ said the Queen furiously, throwing an inkstand at the Lizard\nhttp://www.gutenberg.org/1/11/\nhttp://gutenberg.org/license).\neffort to identify, do copyright research on, transcribe and proofread\ncorrupt data, transcription errors, a copyright or other intellectual\nand the Foundation web page at http://www.pglaf.org.\nhttp://pglaf.org/fundraising.  Contributions to the Project Gutenberg\npage at http://pglaf.org\nparticular state visit http://pglaf.org\nTo donate, please visit: http://pglaf.org/donate\nhttp://www.gutenberg.org\nsubscribe to our email newsletter to hear about new eBooks.\n"
     ]
    }
   ],
   "source": [
    "for line in alice_lines:\n",
    "    if re.search('[^aeiouyAEIOUY\\d\\s\\W]{4}', line):\n",
    "        print(line)"
   ]
  },
  {
   "cell_type": "code",
   "execution_count": 47,
   "metadata": {},
   "outputs": [
    {
     "name": "stdout",
     "output_type": "stream",
     "text": [
      "like a mouse, you know. But do cats eat bats, I wonder?’ And here Alice\nsize: to be sure, this generally happens when one eats cake, but Alice\none corner of it: ‘No room! No room!’ they cried out when they saw Alice\n‘Your hair wants cutting,’ said the Hatter. He had been looking at Alice\nconversation dropped, and the party sat silent for a minute, while Alice\n‘Have you guessed the riddle yet?’ the Hatter said, turning to Alice\n‘Oh, a song, please, if the Mock Turtle would be so kind,’ Alice\nOne of the jurors had a pencil that squeaked. This of course, Alice\n"
     ]
    }
   ],
   "source": [
    "for line in alice_lines:\n",
    "    if re.search('Alice$', line):\n",
    "        print(line)"
   ]
  },
  {
   "cell_type": "code",
   "execution_count": 48,
   "metadata": {},
   "outputs": [
    {
     "name": "stdout",
     "output_type": "stream",
     "text": [
      "given by the Queen of Hearts, and I had to sing\n‘We can do without lobsters, you know. Which shall sing?’\n‘Oh, YOU sing,’ said the Gryphon. ‘I’ve forgotten the words.’\non. ‘Or would you like the Mock Turtle to sing you a song?’\nwith sobs, to sing this:--\n"
     ]
    }
   ],
   "source": [
    "for line in alice_lines:\n",
    "    if re.search(r'\\bsing\\b', line):\n",
    "        print(line)"
   ]
  },
  {
   "cell_type": "code",
   "execution_count": 51,
   "metadata": {},
   "outputs": [
    {
     "name": "stdout",
     "output_type": "stream",
     "text": [
      "And with that she began nursing her child again, singing a sort of\nWhile the Duchess sang the second verse of the song, she kept tossing\ngiven by the Queen of Hearts, and I had to sing\nHere the Dormouse shook itself, and began singing in its sleep ‘Twinkle,\n‘We can do without lobsters, you know. Which shall sing?’\n‘Oh, YOU sing,’ said the Gryphon. ‘I’ve forgotten the words.’\nforepaws to mark the time, while the Mock Turtle sang this, very slowly\non. ‘Or would you like the Mock Turtle to sing you a song?’\nwith sobs, to sing this:--\nof the court, ‘Bring me the list of the singers in the last concert!’ on\nQueen, who was reading the list of singers.\n"
     ]
    }
   ],
   "source": [
    "for line in alice_lines:\n",
    "    if re.search(r'\\b(sing|sung|sang|singing|singer)+', line):\n",
    "        print(line)"
   ]
  },
  {
   "cell_type": "code",
   "execution_count": 54,
   "metadata": {},
   "outputs": [
    {
     "name": "stdout",
     "output_type": "stream",
     "text": [
      "‘In that case,’ said the Dodo solemnly, rising to its feet, ‘I move\n‘I wish I had our Dinah here, I know I do!’ said Alice aloud, addressing\ndrunk half the bottle, she found her head pressing against the ceiling,\ndifferent sizes in a day is very confusing.’\nThis sounded promising, certainly: Alice turned and came back again.\nbefore, and she felt that she was losing her temper.\nserpents! There’s no pleasing them!’\nPigeon, raising its voice to a shriek, ‘and just as I was thinking I\nthe middle, nursing a baby; the cook was leaning over the fire, stirring\nAnd with that she began nursing her child again, singing a sort of\nWhile the Duchess sang the second verse of the song, she kept tossing\nAs soon as she had made out the proper way of nursing it, (which was to\n‘Don’t grunt,’ said Alice; ‘that’s not at all a proper way of expressing\nbetween them, fast asleep, and the other two were using it as a\n‘Of course you don’t!’ the Hatter said, tossing his head contemptuously.\ngiven by the Queen of Hearts, and I had to sing\nHere the Dormouse shook itself, and began singing in its sleep ‘Twinkle,\n‘But they were IN the well,’ Alice said to the Dormouse, not choosing to\n‘Idiot!’ said the Queen, tossing her head impatiently; and, turning to\nconfusing it is all the things being alive; for instance, there’s the\nthe Queen, who was passing at the moment, ‘My dear! I wish you would\n‘We can do without lobsters, you know. Which shall sing?’\n‘Oh, YOU sing,’ said the Gryphon. ‘I’ve forgotten the words.’\nconfusing thing I ever heard!’\non. ‘Or would you like the Mock Turtle to sing you a song?’\nwith sobs, to sing this:--\nof the court, ‘Bring me the list of the singers in the last concert!’ on\nQueen, who was reading the list of singers.\nbegan again, using the ink, that was trickling down his face, as long as\ndistribution of electronic works, by using or distributing this work\n1.A.  By reading or using any part of this Project Gutenberg-tm\nthe terms of this agreement, you must cease using and return or destroy\nword processing or hypertext form.  However, if you provide access to or\nthe use of Project Gutenberg-tm works calculated using the method\nhttp://pglaf.org/fundraising.  Contributions to the Project Gutenberg\nincreasing the number of public domain and licensed works that can be\n"
     ]
    }
   ],
   "source": [
    "for line in alice_lines:\n",
    "    if re.search(\"sin(g|er|ing)\", line):  # not perfect, because grabs suffixes and not past or participle  \n",
    "        print(line)"
   ]
  },
  {
   "cell_type": "code",
   "execution_count": 8,
   "metadata": {},
   "outputs": [],
   "source": [
    "for line in alice_lines:\n",
    "    if re.search('\\b[^AEIOUaeiouy0-9]+\\s', line):\n",
    "        print(line)"
   ]
  },
  {
   "cell_type": "code",
   "execution_count": null,
   "metadata": {},
   "outputs": [],
   "source": []
  }
 ],
 "metadata": {
  "kernelspec": {
   "display_name": "Python 2",
   "language": "python",
   "name": "python2"
  },
  "language_info": {
   "codemirror_mode": {
    "name": "ipython",
    "version": 2
   },
   "file_extension": ".py",
   "mimetype": "text/x-python",
   "name": "python",
   "nbconvert_exporter": "python",
   "pygments_lexer": "ipython2",
   "version": "2.7.6"
  }
 },
 "nbformat": 4,
 "nbformat_minor": 0
}
