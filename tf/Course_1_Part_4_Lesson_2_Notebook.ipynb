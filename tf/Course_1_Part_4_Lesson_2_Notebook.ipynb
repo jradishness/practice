{
 "cells": [
  {
   "cell_type": "markdown",
   "metadata": {
    "id": "qnyTxjK_GbOD",
    "colab_type": "text"
   },
   "source": [
    "# Beyond Hello World, A Computer Vision Example\n",
    "In the previous exercise you saw how to create a neural network that figured out the problem you were trying to solve. This gave an explicit example of learned behavior. Of course, in that instance, it was a bit of overkill because it would have been easier to write the function Y=2x-1 directly, instead of bothering with using Machine Learning to learn the relationship between X and Y for a fixed set of values, and extending that for all values.\n",
    "\n",
    "But what about a scenario where writing rules like that is much more difficult -- for example a computer vision problem? Let's take a look at a scenario where we can recognize different items of clothing, trained from a dataset containing 10 different types."
   ]
  },
  {
   "cell_type": "markdown",
   "metadata": {
    "id": "H41FYgtlHPjW",
    "colab_type": "text"
   },
   "source": [
    "## Start Coding\n",
    "\n",
    "Let's start with our import of TensorFlow"
   ]
  },
  {
   "cell_type": "code",
   "execution_count": 3,
   "metadata": {
    "id": "q3KzJyjv3rnA",
    "colab_type": "code",
    "outputId": "60b6e938-b0f4-43ea-a8ee-6ad4904f3c0f",
    "colab": {
     "base_uri": "https://localhost:8080/",
     "height": 34.0
    }
   },
   "outputs": [
    {
     "ename": "ModuleNotFoundError",
     "evalue": "No module named 'tensorflow'",
     "traceback": [
      "\u001b[1;31m---------------------------------------------------------------------------\u001b[0m",
      "\u001b[1;31mModuleNotFoundError\u001b[0m                       Traceback (most recent call last)",
      "\u001b[1;32m<ipython-input-3-f83c6d50081b>\u001b[0m in \u001b[0;36m<module>\u001b[1;34m()\u001b[0m\n\u001b[1;32m----> 1\u001b[1;33m \u001b[1;32mimport\u001b[0m \u001b[0mtensorflow\u001b[0m \u001b[1;32mas\u001b[0m \u001b[0mtf\u001b[0m\u001b[1;33m\u001b[0m\u001b[0m\n\u001b[0m\u001b[0;32m      2\u001b[0m \u001b[0mprint\u001b[0m\u001b[1;33m(\u001b[0m\u001b[0mtf\u001b[0m\u001b[1;33m.\u001b[0m\u001b[0m__version__\u001b[0m\u001b[1;33m)\u001b[0m\u001b[1;33m\u001b[0m\u001b[0m\n",
      "\u001b[1;31mModuleNotFoundError\u001b[0m: No module named 'tensorflow'"
     ],
     "output_type": "error"
    }
   ],
   "source": [
    "import tensorflow as tf\n",
    "print(tf.__version__)"
   ]
  },
  {
   "cell_type": "markdown",
   "metadata": {
    "id": "n_n1U5do3u_F",
    "colab_type": "text"
   },
   "source": [
    "The Fashion MNIST data is available directly in the tf.keras datasets API. You load it like this:"
   ]
  },
  {
   "cell_type": "code",
   "execution_count": 0,
   "metadata": {
    "id": "PmxkHFpt31bM",
    "colab_type": "code",
    "colab": {}
   },
   "outputs": [],
   "source": [
    "mnist = tf.keras.datasets.fashion_mnist"
   ]
  },
  {
   "cell_type": "markdown",
   "metadata": {
    "id": "GuoLQQBT4E-_",
    "colab_type": "text"
   },
   "source": [
    "Calling load_data on this object will give you two sets of two lists, these will be the training and testing values for the graphics that contain the clothing items and their labels.\n"
   ]
  },
  {
   "cell_type": "code",
   "execution_count": 3,
   "metadata": {
    "id": "BTdRgExe4TRB",
    "colab_type": "code",
    "outputId": "c0969fc7-c938-4cce-a205-b3c829f7c0d8",
    "colab": {
     "base_uri": "https://localhost:8080/",
     "height": 224.0
    }
   },
   "outputs": [
    {
     "name": "stdout",
     "output_type": "stream",
     "text": [
      "Downloading data from https://storage.googleapis.com/tensorflow/tf-keras-datasets/train-labels-idx1-ubyte.gz\n",
      "32768/29515 [=================================] - 0s 0us/step\n",
      "40960/29515 [=========================================] - 0s 0us/step\n",
      "Downloading data from https://storage.googleapis.com/tensorflow/tf-keras-datasets/train-images-idx3-ubyte.gz\n",
      "26427392/26421880 [==============================] - 0s 0us/step\n",
      "26435584/26421880 [==============================] - 0s 0us/step\n",
      "Downloading data from https://storage.googleapis.com/tensorflow/tf-keras-datasets/t10k-labels-idx1-ubyte.gz\n",
      "16384/5148 [===============================================================================================] - 0s 0us/step\n",
      "Downloading data from https://storage.googleapis.com/tensorflow/tf-keras-datasets/t10k-images-idx3-ubyte.gz\n",
      "4423680/4422102 [==============================] - 0s 0us/step\n",
      "4431872/4422102 [==============================] - 0s 0us/step\n"
     ]
    }
   ],
   "source": [
    "(training_images, training_labels), (test_images, test_labels) = mnist.load_data()"
   ]
  },
  {
   "cell_type": "markdown",
   "metadata": {
    "id": "rw395ROx4f5Q",
    "colab_type": "text"
   },
   "source": [
    "What does these values look like? Let's print a training image, and a training label to see...Experiment with different indices in the array. For example, also take a look at index 42...that's a a different boot than the one at index 0\n"
   ]
  },
  {
   "cell_type": "code",
   "execution_count": 7,
   "metadata": {
    "id": "FPc9d3gJ3jWF",
    "colab_type": "code",
    "outputId": "4ee1c370-4be9-4e71-9543-363692aea453",
    "colab": {
     "base_uri": "https://localhost:8080/",
     "height": 1000.0
    }
   },
   "outputs": [
    {
     "name": "stdout",
     "output_type": "stream",
     "text": [
      "6\n",
      "[[0.         0.         0.         0.         0.         0.\n",
      "  0.         0.         0.27843137 0.65490196 0.62352941 0.23137255\n",
      "  0.01176471 0.         0.         0.         0.         0.42352941\n",
      "  0.54117647 0.12156863 0.         0.         0.         0.\n",
      "  0.         0.         0.         0.        ]\n",
      " [0.         0.         0.         0.         0.         0.\n",
      "  0.20784314 1.         1.         0.88235294 0.90588235 1.\n",
      "  1.         0.32156863 0.90196078 0.71764706 0.56470588 1.\n",
      "  0.88235294 0.88627451 0.83137255 0.         0.         0.\n",
      "  0.         0.         0.         0.        ]\n",
      " [0.         0.         0.         0.00784314 0.         0.\n",
      "  0.98431373 0.94117647 0.8        0.71764706 0.69411765 0.70588235\n",
      "  0.87058824 0.63529412 0.91764706 0.99607843 0.85490196 0.71372549\n",
      "  0.74901961 0.78431373 0.95294118 0.75294118 0.         0.\n",
      "  0.         0.         0.         0.        ]\n",
      " [0.         0.         0.         0.00784314 0.         0.10196078\n",
      "  0.87843137 0.90196078 0.90196078 0.84313725 0.85098039 0.91372549\n",
      "  0.82745098 0.9254902  0.94901961 0.79215686 0.85098039 0.80392157\n",
      "  0.79607843 0.83921569 0.89019608 0.87843137 0.         0.\n",
      "  0.01176471 0.         0.         0.        ]\n",
      " [0.         0.         0.         0.00784314 0.         0.33333333\n",
      "  0.89411765 0.8627451  0.84705882 0.85882353 0.94117647 0.92941176\n",
      "  0.85490196 0.81568627 0.94509804 0.87058824 0.90588235 0.90196078\n",
      "  0.91764706 0.86666667 0.89019608 0.96078431 0.10588235 0.\n",
      "  0.01568627 0.         0.         0.        ]\n",
      " [0.         0.         0.         0.00784314 0.         0.5372549\n",
      "  0.96470588 0.87058824 0.79215686 0.89803922 0.9254902  0.87058824\n",
      "  0.86666667 0.80784314 0.9372549  0.83137255 0.79607843 0.8745098\n",
      "  0.86666667 0.8627451  0.89411765 0.96862745 0.30196078 0.\n",
      "  0.01176471 0.         0.         0.        ]\n",
      " [0.         0.         0.         0.         0.         0.71764706\n",
      "  0.96862745 0.89019608 0.81960784 0.86666667 0.74117647 0.84313725\n",
      "  0.82352941 0.81568627 0.89411765 0.85098039 0.83137255 0.90980392\n",
      "  0.81176471 0.83529412 0.87843137 0.94117647 0.50980392 0.\n",
      "  0.01176471 0.         0.         0.        ]\n",
      " [0.         0.         0.00784314 0.         0.         0.89803922\n",
      "  0.94901961 0.8745098  0.89803922 0.81568627 0.79215686 0.89803922\n",
      "  0.77647059 0.81176471 0.86666667 0.8627451  0.83529412 0.94901961\n",
      "  0.89019608 0.85490196 0.88627451 0.92941176 0.70196078 0.\n",
      "  0.         0.         0.         0.        ]\n",
      " [0.         0.         0.00392157 0.         0.         0.96470588\n",
      "  0.91372549 0.81568627 0.96862745 0.90588235 0.85098039 0.90196078\n",
      "  0.75294118 0.74509804 0.85490196 0.86666667 0.88627451 0.92156863\n",
      "  0.88235294 0.89803922 0.91372549 0.91372549 0.88627451 0.\n",
      "  0.         0.00392157 0.         0.        ]\n",
      " [0.         0.         0.00392157 0.         0.08627451 1.\n",
      "  0.89803922 0.81960784 0.97647059 0.8627451  0.7254902  0.83137255\n",
      "  0.96862745 0.91764706 0.90980392 0.86666667 0.92941176 0.87843137\n",
      "  0.85490196 0.94509804 0.95294118 0.90980392 1.         0.\n",
      "  0.         0.00392157 0.         0.        ]\n",
      " [0.         0.         0.00784314 0.         0.19215686 0.91764706\n",
      "  0.91372549 0.88627451 0.91764706 0.82745098 0.77254902 0.76862745\n",
      "  0.87843137 0.9254902  0.87058824 0.88627451 0.89019608 0.84705882\n",
      "  0.81568627 0.96078431 0.98431373 0.90980392 0.94509804 0.06666667\n",
      "  0.         0.00784314 0.         0.        ]\n",
      " [0.         0.         0.01176471 0.         0.41176471 0.97254902\n",
      "  0.93333333 0.97647059 0.90980392 0.84705882 0.78823529 0.78823529\n",
      "  0.81176471 0.89411765 0.92156863 0.9254902  0.82745098 0.83921569\n",
      "  0.80392157 0.92156863 1.         0.89411765 0.94117647 0.30196078\n",
      "  0.         0.00392157 0.         0.        ]\n",
      " [0.         0.         0.00784314 0.         0.56078431 0.96470588\n",
      "  0.96470588 0.85882353 0.74901961 0.97254902 0.83921569 0.84313725\n",
      "  0.84313725 0.93333333 0.92941176 0.92941176 0.82352941 0.90196078\n",
      "  0.84705882 0.8745098  0.97254902 0.87058824 0.94509804 0.47843137\n",
      "  0.         0.00784314 0.         0.        ]\n",
      " [0.         0.         0.         0.         0.72156863 0.93333333\n",
      "  1.         0.43921569 0.62352941 1.         0.83137255 0.85098039\n",
      "  0.83529412 0.92941176 0.95686275 0.90588235 0.87843137 0.96862745\n",
      "  0.87843137 0.85098039 0.8745098  0.89019608 0.9372549  0.65490196\n",
      "  0.         0.         0.         0.        ]\n",
      " [0.         0.         0.         0.         0.9254902  0.8745098\n",
      "  1.         0.09803922 0.56862745 1.         0.80784314 0.84313725\n",
      "  0.83137255 0.8745098  0.95686275 0.82352941 0.90980392 0.91372549\n",
      "  0.88235294 0.8627451  0.63137255 0.99215686 0.95294118 0.81568627\n",
      "  0.         0.         0.         0.        ]\n",
      " [0.         0.         0.         0.         0.86666667 0.85882353\n",
      "  1.         0.02352941 0.66666667 0.94901961 0.76862745 0.8\n",
      "  0.78431373 0.85098039 0.94901961 0.76470588 0.89803922 0.8745098\n",
      "  0.85490196 0.88627451 0.56470588 1.         0.92156863 0.94117647\n",
      "  0.         0.         0.         0.        ]\n",
      " [0.         0.         0.         0.23529412 0.9254902  0.84313725\n",
      "  1.         0.37647059 0.83921569 0.89411765 0.79215686 0.80392157\n",
      "  0.78823529 0.8627451  0.97647059 0.78431373 0.89019608 0.89019608\n",
      "  0.81960784 0.82745098 0.62352941 1.         0.85098039 0.92941176\n",
      "  0.01568627 0.         0.         0.        ]\n",
      " [0.         0.         0.         0.45882353 0.95686275 0.88627451\n",
      "  1.         0.86666667 0.84705882 0.88627451 0.81960784 0.82352941\n",
      "  0.80784314 0.89411765 1.         0.83921569 0.91764706 0.90980392\n",
      "  0.83529412 0.78039216 0.72156863 0.96078431 0.82352941 0.97254902\n",
      "  0.31764706 0.         0.         0.        ]\n",
      " [0.         0.         0.         0.66666667 0.96862745 0.90196078\n",
      "  1.         0.91764706 0.87843137 0.96470588 0.8627451  0.87058824\n",
      "  0.85882353 0.92156863 1.         0.85490196 0.94509804 0.9372549\n",
      "  0.85098039 0.83137255 0.88627451 0.92156863 0.84313725 0.97647059\n",
      "  0.46666667 0.         0.         0.        ]\n",
      " [0.         0.         0.         0.94509804 0.94509804 0.88235294\n",
      "  1.         0.51764706 0.56078431 1.         0.8627451  0.87843137\n",
      "  0.85882353 0.94117647 0.99607843 0.85882353 0.94117647 0.95294118\n",
      "  0.85882353 0.8745098  0.98431373 0.90588235 0.8745098  0.97647059\n",
      "  0.56078431 0.         0.         0.        ]\n",
      " [0.         0.         0.         1.         0.90588235 0.87058824\n",
      "  1.         0.49803922 0.61568627 0.95294118 0.77254902 0.79607843\n",
      "  0.79607843 0.90980392 1.         0.81568627 0.91372549 0.91372549\n",
      "  0.85490196 0.87058824 1.         0.89019608 0.90588235 1.\n",
      "  0.71372549 0.         0.         0.        ]\n",
      " [0.         0.         0.06666667 1.         0.87058824 0.86666667\n",
      "  1.         0.45882353 0.70980392 0.94509804 0.8627451  0.81176471\n",
      "  0.79215686 0.94509804 0.99215686 0.89803922 0.92156863 0.90980392\n",
      "  0.83529412 0.8627451  0.91764706 0.90980392 0.90980392 0.99607843\n",
      "  0.83529412 0.         0.         0.        ]\n",
      " [0.         0.         0.20784314 1.         0.8627451  0.87843137\n",
      "  1.         0.32941176 0.48235294 0.91764706 0.70980392 0.76862745\n",
      "  0.82745098 0.79607843 0.69411765 0.76862745 0.8        0.79215686\n",
      "  1.         0.44705882 0.69019608 0.96862745 0.89803922 0.98431373\n",
      "  0.95294118 0.         0.         0.        ]\n",
      " [0.         0.         0.34117647 1.         0.87843137 0.89019608\n",
      "  1.         0.50588235 0.         0.84705882 0.88235294 0.74901961\n",
      "  0.77254902 0.78039216 0.75294118 0.76078431 0.78823529 1.\n",
      "  0.87843137 0.         0.78431373 0.90196078 0.89411765 0.94509804\n",
      "  0.98823529 0.         0.         0.        ]\n",
      " [0.         0.         0.45098039 0.92941176 0.90588235 0.91764706\n",
      "  0.9372549  0.63137255 0.         0.         0.38823529 0.63921569\n",
      "  0.83137255 0.96862745 0.94117647 0.82352941 0.70588235 0.45490196\n",
      "  0.         0.         1.         0.92156863 0.92941176 0.92941176\n",
      "  0.82745098 0.         0.         0.        ]\n",
      " [0.         0.         0.65882353 0.96862745 0.92941176 0.35686275\n",
      "  0.         0.         0.         0.         0.         0.\n",
      "  0.         0.         0.         0.         0.         0.\n",
      "  0.         0.         0.58039216 0.88235294 0.90588235 0.94509804\n",
      "  0.84705882 0.04705882 0.         0.        ]\n",
      " [0.         0.         0.84705882 0.80784314 0.         0.\n",
      "  0.         0.         0.         0.01176471 0.00784314 0.\n",
      "  0.         0.         0.         0.         0.         0.01568627\n",
      "  0.         0.         0.         0.         0.         0.6627451\n",
      "  0.96470588 0.25882353 0.         0.        ]\n",
      " [0.         0.         0.         0.         0.         0.\n",
      "  0.         0.00392157 0.         0.         0.         0.\n",
      "  0.00392157 0.00784314 0.01176471 0.00392157 0.         0.\n",
      "  0.         0.         0.         0.         0.         0.\n",
      "  0.30588235 0.02352941 0.         0.        ]]\n"
     ]
    },
    {
     "data": {
      "image/png": "[encoded data removed]",
      "text/plain": [
       "<Figure size 432x288 with 1 Axes>"
      ]
     },
     "metadata": {
      "tags": []
     },
     "output_type": "display_data"
    }
   ],
   "source": [
    "import matplotlib.pyplot as plt\n",
    "plt.imshow(training_images[301])\n",
    "print(training_labels[301])\n",
    "print(training_images[301])"
   ]
  },
  {
   "cell_type": "markdown",
   "metadata": {
    "id": "3cbrdH225_nH",
    "colab_type": "text"
   },
   "source": [
    "You'll notice that all of the values in the number are between 0 and 255. If we are training a neural network, for various reasons it's easier if we treat all values as between 0 and 1, a process called '**normalizing**'...and fortunately in Python it's easy to normalize a list like this without looping. You do it like this:"
   ]
  },
  {
   "cell_type": "code",
   "execution_count": 0,
   "metadata": {
    "id": "kRH19pWs6ZDn",
    "colab_type": "code",
    "colab": {}
   },
   "outputs": [],
   "source": [
    "training_images  = training_images / 255.0\n",
    "test_images = test_images / 255.0"
   ]
  },
  {
   "cell_type": "markdown",
   "metadata": {
    "id": "3DkO0As46lRn",
    "colab_type": "text"
   },
   "source": [
    "Now you might be wondering why there are 2 sets...training and testing -- remember we spoke about this in the intro? The idea is to have 1 set of data for training, and then another set of data...that the model hasn't yet seen...to see how good it would be at classifying values. After all, when you're done, you're going to want to try it out with data that it hadn't previously seen!"
   ]
  },
  {
   "cell_type": "markdown",
   "metadata": {
    "id": "dIn7S9gf62ie",
    "colab_type": "text"
   },
   "source": [
    "Let's now design the model. There's quite a few new concepts here, but don't worry, you'll get the hang of them. "
   ]
  },
  {
   "cell_type": "code",
   "execution_count": 0,
   "metadata": {
    "id": "7mAyndG3kVlK",
    "colab_type": "code",
    "colab": {}
   },
   "outputs": [],
   "source": [
    "model = tf.keras.models.Sequential([tf.keras.layers.Flatten(), \n",
    "                                    tf.keras.layers.Dense(512, activation=tf.nn.relu),\n",
    "                                    tf.keras.layers.Dense(10, activation=tf.nn.softmax)])"
   ]
  },
  {
   "cell_type": "markdown",
   "metadata": {
    "id": "-lUcWaiX7MFj",
    "colab_type": "text"
   },
   "source": [
    "**Sequential**: That defines a SEQUENCE of layers in the neural network\n",
    "\n",
    "**Flatten**: Remember earlier where our images were a square, when you printed them out? Flatten just takes that square and turns it into a 1 dimensional set.\n",
    "\n",
    "**Dense**: Adds a layer of neurons\n",
    "\n",
    "Each layer of neurons need an **activation function** to tell them what to do. There's lots of options, but just use these for now. \n",
    "\n",
    "**Relu** effectively means \"If X>0 return X, else return 0\" -- so what it does it it only passes values 0 or greater to the next layer in the network.\n",
    "\n",
    "**Softmax** takes a set of values, and effectively picks the biggest one, so, for example, if the output of the last layer looks like [0.1, 0.1, 0.05, 0.1, 9.5, 0.1, 0.05, 0.05, 0.05], it saves you from fishing through it looking for the biggest value, and turns it into [0,0,0,0,1,0,0,0,0] -- The goal is to save a lot of coding!\n"
   ]
  },
  {
   "cell_type": "markdown",
   "metadata": {
    "id": "c8vbMCqb9Mh6",
    "colab_type": "text"
   },
   "source": [
    "The next thing to do, now the model is defined, is to actually build it. You do this by compiling it with an optimizer and loss function as before -- and then you train it by calling **model.fit ** asking it to fit your training data to your training labels -- i.e. have it figure out the relationship between the training data and its actual labels, so in future if you have data that looks like the training data, then it can make a prediction for what that data would look like. "
   ]
  },
  {
   "cell_type": "code",
   "execution_count": 25,
   "metadata": {
    "id": "BLMdl9aP8nQ0",
    "colab_type": "code",
    "outputId": "7dfe3b9b-2ff5-439c-e9de-44251e285f19",
    "colab": {
     "base_uri": "https://localhost:8080/",
     "height": 1000.0
    }
   },
   "outputs": [
    {
     "name": "stdout",
     "output_type": "stream",
     "text": [
      "Epoch 1/30\n",
      "60000/60000 [==============================] - 8s 136us/sample - loss: 0.1542 - acc: 0.9423\n",
      "Epoch 2/30\n",
      "60000/60000 [==============================] - 8s 134us/sample - loss: 0.1492 - acc: 0.9444\n",
      "Epoch 3/30\n",
      "60000/60000 [==============================] - 8s 133us/sample - loss: 0.1435 - acc: 0.9462\n",
      "Epoch 4/30\n",
      "60000/60000 [==============================] - 8s 136us/sample - loss: 0.1411 - acc: 0.9463\n",
      "Epoch 5/30\n",
      "60000/60000 [==============================] - 8s 136us/sample - loss: 0.1383 - acc: 0.9477\n",
      "Epoch 6/30\n",
      "60000/60000 [==============================] - 8s 132us/sample - loss: 0.1325 - acc: 0.9499\n",
      "Epoch 7/30\n",
      "60000/60000 [==============================] - 8s 133us/sample - loss: 0.1294 - acc: 0.9506\n",
      "Epoch 8/30\n",
      "60000/60000 [==============================] - 8s 129us/sample - loss: 0.1273 - acc: 0.9533\n",
      "Epoch 9/30\n",
      "60000/60000 [==============================] - 8s 131us/sample - loss: 0.1250 - acc: 0.9532\n",
      "Epoch 10/30\n",
      "60000/60000 [==============================] - 8s 132us/sample - loss: 0.1218 - acc: 0.9544\n",
      "Epoch 11/30\n",
      "60000/60000 [==============================] - 8s 129us/sample - loss: 0.1178 - acc: 0.9562\n",
      "Epoch 12/30\n",
      "60000/60000 [==============================] - 8s 133us/sample - loss: 0.1168 - acc: 0.9564\n",
      "Epoch 13/30\n",
      "60000/60000 [==============================] - 8s 135us/sample - loss: 0.1138 - acc: 0.9568\n",
      "Epoch 14/30\n",
      "60000/60000 [==============================] - 8s 132us/sample - loss: 0.1084 - acc: 0.9589\n",
      "Epoch 15/30\n",
      "60000/60000 [==============================] - 8s 133us/sample - loss: 0.1082 - acc: 0.9590\n",
      "Epoch 16/30\n",
      "60000/60000 [==============================] - 8s 133us/sample - loss: 0.1047 - acc: 0.9601\n",
      "Epoch 17/30\n",
      "60000/60000 [==============================] - 8s 132us/sample - loss: 0.1055 - acc: 0.9599\n",
      "Epoch 18/30\n",
      "60000/60000 [==============================] - 8s 132us/sample - loss: 0.0991 - acc: 0.9634\n",
      "Epoch 19/30\n",
      "60000/60000 [==============================] - 8s 134us/sample - loss: 0.1009 - acc: 0.9623\n",
      "Epoch 20/30\n",
      "60000/60000 [==============================] - 8s 132us/sample - loss: 0.0954 - acc: 0.9645\n",
      "Epoch 21/30\n",
      "60000/60000 [==============================] - 8s 133us/sample - loss: 0.0953 - acc: 0.9632\n",
      "Epoch 22/30\n",
      "60000/60000 [==============================] - 8s 134us/sample - loss: 0.0941 - acc: 0.9651\n",
      "Epoch 23/30\n",
      "60000/60000 [==============================] - 8s 129us/sample - loss: 0.0914 - acc: 0.9657\n",
      "Epoch 24/30\n",
      "60000/60000 [==============================] - 8s 133us/sample - loss: 0.0890 - acc: 0.9661\n",
      "Epoch 25/30\n",
      "60000/60000 [==============================] - 8s 131us/sample - loss: 0.0885 - acc: 0.9670\n",
      "Epoch 26/30\n",
      "60000/60000 [==============================] - 8s 132us/sample - loss: 0.0870 - acc: 0.9676\n",
      "Epoch 27/30\n",
      "60000/60000 [==============================] - 8s 132us/sample - loss: 0.0839 - acc: 0.9684\n",
      "Epoch 28/30\n",
      "60000/60000 [==============================] - 8s 133us/sample - loss: 0.0855 - acc: 0.9676\n",
      "Epoch 29/30\n",
      "60000/60000 [==============================] - 8s 136us/sample - loss: 0.0818 - acc: 0.9695\n",
      "Epoch 30/30\n",
      "60000/60000 [==============================] - 8s 133us/sample - loss: 0.0795 - acc: 0.9704\n"
     ]
    },
    {
     "data": {
      "text/plain": [
       "<tensorflow.python.keras.callbacks.History at 0x7f547031bcd0>"
      ]
     },
     "execution_count": 25,
     "metadata": {
      "tags": []
     },
     "output_type": "execute_result"
    }
   ],
   "source": [
    "model.compile(optimizer = tf.train.AdamOptimizer(),\n",
    "              loss = 'sparse_categorical_crossentropy',\n",
    "              metrics=['accuracy'])\n",
    "\n",
    "model.fit(training_images, training_labels, epochs=30)"
   ]
  },
  {
   "cell_type": "markdown",
   "metadata": {
    "id": "-JJMsvSB-1UY",
    "colab_type": "text"
   },
   "source": [
    "Once it's done training -- you should see an accuracy value at the end of the final epoch. It might look something like 0.9098. This tells you that your neural network is about 91% accurate in classifying the training data. I.E., it figured out a pattern match between the image and the labels that worked 91% of the time. Not great, but not bad considering it was only trained for 5 epochs and done quite quickly.\n",
    "\n",
    "But how would it work with unseen data? That's why we have the test images. We can call model.evaluate, and pass in the two sets, and it will report back the loss for each. Let's give it a try:"
   ]
  },
  {
   "cell_type": "code",
   "execution_count": 29,
   "metadata": {
    "id": "WzlqsEzX9s5P",
    "colab_type": "code",
    "outputId": "63a5acf1-b5c6-4430-8849-8206be5ac015",
    "colab": {
     "base_uri": "https://localhost:8080/",
     "height": 51.0
    }
   },
   "outputs": [
    {
     "name": "stdout",
     "output_type": "stream",
     "text": [
      "10000/10000 [==============================] - 1s 75us/sample - loss: 0.4209\n"
     ]
    },
    {
     "data": {
      "text/plain": [
       "0.4208921169042587"
      ]
     },
     "execution_count": 29,
     "metadata": {
      "tags": []
     },
     "output_type": "execute_result"
    }
   ],
   "source": [
    "model.evaluate(test_images, test_labels)"
   ]
  },
  {
   "cell_type": "markdown",
   "metadata": {
    "id": "6tki-Aro_Uax",
    "colab_type": "text"
   },
   "source": [
    "For me, that returned a accuracy of about .8838, which means it was about 88% accurate. As expected it probably would not do as well with *unseen* data as it did with data it was trained on!  As you go through this course, you'll look at ways to improve this. \n",
    "\n",
    "To explore further, try the below exercises:\n"
   ]
  },
  {
   "cell_type": "markdown",
   "metadata": {
    "id": "htldZNWcIPSN",
    "colab_type": "text"
   },
   "source": [
    "# Exploration Exercises"
   ]
  },
  {
   "cell_type": "markdown",
   "metadata": {
    "id": "rquQqIx4AaGR",
    "colab_type": "text"
   },
   "source": [
    "###Exercise 1:\n",
    "For this first exercise run the below code: It creates a set of classifications for each of the test images, and then prints the first entry in the classifications. The output, after you run it is a list of numbers. Why do you think this is, and what do those numbers represent? "
   ]
  },
  {
   "cell_type": "code",
   "execution_count": 28,
   "metadata": {
    "id": "RyEIki0z_hAD",
    "colab_type": "code",
    "colab": {
     "base_uri": "https://localhost:8080/",
     "height": 51.0
    },
    "outputId": "49421ef3-93a2-4cf4-afe2-d7ea31f28206"
   },
   "outputs": [
    {
     "name": "stdout",
     "output_type": "stream",
     "text": [
      "[2.4586971e-06 9.1472981e-07 2.5031994e-07 2.2977001e-07 3.7422834e-07\n",
      " 1.6466057e-01 4.8915963e-06 6.5161765e-02 3.4843055e-05 7.7013367e-01]\n"
     ]
    }
   ],
   "source": [
    "classifications = model.predict(test_images)\n",
    "\n",
    "print(classifications[0])"
   ]
  },
  {
   "cell_type": "markdown",
   "metadata": {
    "id": "MdzqbQhRArzm",
    "colab_type": "text"
   },
   "source": [
    "Hint: try running print(test_labels[0]) -- and you'll get a 9. Does that help you understand why this list looks the way it does? "
   ]
  },
  {
   "cell_type": "code",
   "execution_count": 27,
   "metadata": {
    "id": "WnBGOrMiA1n5",
    "colab_type": "code",
    "colab": {
     "base_uri": "https://localhost:8080/",
     "height": 34.0
    },
    "outputId": "4014487a-06f7-48e4-e04d-4d271a0e2f1c"
   },
   "outputs": [
    {
     "name": "stdout",
     "output_type": "stream",
     "text": [
      "9\n"
     ]
    }
   ],
   "source": [
    "print(test_labels[0])"
   ]
  },
  {
   "cell_type": "markdown",
   "metadata": {
    "id": "uUs7eqr7uSvs",
    "colab_type": "text"
   },
   "source": [
    "### What does this list represent?\n",
    "\n",
    "\n",
    "1.   It's 10 random meaningless values\n",
    "2.   It's the first 10 classifications that the computer made\n",
    "3.   It's the probability that this item is each of the 10 classes\n",
    "\n"
   ]
  },
  {
   "cell_type": "markdown",
   "metadata": {
    "id": "wAbr92RTA67u",
    "colab_type": "text"
   },
   "source": [
    "####Answer: \n",
    "The correct answer is (3)\n",
    "\n",
    "The output of the model is a list of 10 numbers. These numbers are a probability that the value being classified is the corresponding value, i.e. the first value in the list is the probability that the handwriting is of a '0', the next is a '1' etc. Notice that they are all VERY LOW probabilities.\n",
    "\n",
    "For the 7, the probability was .999+, i.e. the neural network is telling us that it's almost certainly a 7."
   ]
  },
  {
   "cell_type": "markdown",
   "metadata": {
    "id": "CD4kC6TBu-69",
    "colab_type": "text"
   },
   "source": [
    "### How do you know that this list tells you that the item is an ankle boot?\n",
    "\n",
    "\n",
    "1.   There's not enough information to answer that question\n",
    "2.   The 10th element on the list is the biggest, and the ankle boot is labelled 9\n",
    "2.   The ankle boot is label 9, and there are 0->9 elements in the list\n",
    "\n",
    "\n"
   ]
  },
  {
   "cell_type": "markdown",
   "metadata": {
    "id": "I-haLncrva5L",
    "colab_type": "text"
   },
   "source": [
    "####Answer\n",
    "The correct answer is (2). Both the list and the labels are 0 based, so the ankle boot having label 9 means that it is the 10th of the 10 classes. The list having the 10th element being the highest value means that the Neural Network has predicted that the item it is classifying is most likely an ankle boot"
   ]
  },
  {
   "cell_type": "markdown",
   "metadata": {
    "id": "OgQSIfDSOWv6",
    "colab_type": "text"
   },
   "source": [
    "##Exercise 2: \n",
    "Let's now look at the layers in your model. Experiment with different values for the dense layer with 512 neurons. What different results do you get for loss, training time etc? Why do you think that's the case? \n",
    "\n"
   ]
  },
  {
   "cell_type": "code",
   "execution_count": 0,
   "metadata": {
    "id": "GSZSwV5UObQP",
    "colab_type": "code",
    "colab": {}
   },
   "outputs": [],
   "source": [
    "import tensorflow as tf\n",
    "print(tf.__version__)\n",
    "\n",
    "mnist = tf.keras.datasets.mnist\n",
    "\n",
    "(training_images, training_labels) ,  (test_images, test_labels) = mnist.load_data()\n",
    "\n",
    "training_images = training_images/255.0\n",
    "test_images = test_images/255.0\n",
    "\n",
    "model = tf.keras.models.Sequential([tf.keras.layers.Flatten(),\n",
    "                                    tf.keras.layers.Dense(1024, activation=tf.nn.relu),\n",
    "                                    tf.keras.layers.Dense(10, activation=tf.nn.softmax)])\n",
    "\n",
    "model.compile(optimizer = 'adam',\n",
    "              loss = 'sparse_categorical_crossentropy')\n",
    "\n",
    "model.fit(training_images, training_labels, epochs=5)\n",
    "\n",
    "model.evaluate(test_images, test_labels)\n",
    "\n",
    "classifications = model.predict(test_images)\n",
    "\n",
    "print(classifications[0])\n",
    "print(test_labels[0])"
   ]
  },
  {
   "cell_type": "markdown",
   "metadata": {
    "id": "bOOEnHZFv5cS",
    "colab_type": "text"
   },
   "source": [
    "###Question 1. Increase to 1024 Neurons -- What's the impact?\n",
    "\n",
    "1. Training takes longer, but is more accurate\n",
    "2. Training takes longer, but no impact on accuracy\n",
    "3. Training takes the same time, but is more accurate\n"
   ]
  },
  {
   "cell_type": "markdown",
   "metadata": {
    "id": "U73MUP2lwrI2",
    "colab_type": "text"
   },
   "source": [
    "####Answer\n",
    "The correct answer is (1) by adding more Neurons we have to do more calculations, slowing down the process, but in this case they have a good impact -- we do get more accurate. That doesn't mean it's always a case of 'more is better', you can hit the law of diminishing returns very quickly!"
   ]
  },
  {
   "cell_type": "markdown",
   "metadata": {
    "id": "WtWxK16hQxLN",
    "colab_type": "text"
   },
   "source": [
    "##Exercise 3: \n",
    "\n",
    "What would happen if you remove the Flatten() layer. Why do you think that's the case? \n",
    "\n",
    "You get an error about the shape of the data. It may seem vague right now, but it reinforces the rule of thumb that the first layer in your network should be the same shape as your data. Right now our data is 28x28 images, and 28 layers of 28 neurons would be infeasible, so it makes more sense to 'flatten' that 28,28 into a 784x1. Instead of wriitng all the code to handle that ourselves, we add the Flatten() layer at the begining, and when the arrays are loaded into the model later, they'll automatically be flattened for us."
   ]
  },
  {
   "cell_type": "code",
   "execution_count": 0,
   "metadata": {
    "id": "ExNxCwhcQ18S",
    "colab_type": "code",
    "colab": {}
   },
   "outputs": [],
   "source": [
    "import tensorflow as tf\n",
    "print(tf.__version__)\n",
    "\n",
    "mnist = tf.keras.datasets.mnist\n",
    "\n",
    "(training_images, training_labels) ,  (test_images, test_labels) = mnist.load_data()\n",
    "\n",
    "training_images = training_images/255.0\n",
    "test_images = test_images/255.0\n",
    "\n",
    "model = tf.keras.models.Sequential([#tf.keras.layers.Flatten(),\n",
    "                                    tf.keras.layers.Dense(64, activation=tf.nn.relu),\n",
    "                                    tf.keras.layers.Dense(10, activation=tf.nn.softmax)])\n",
    "\n",
    "model.compile(optimizer = 'adam',\n",
    "              loss = 'sparse_categorical_crossentropy')\n",
    "\n",
    "model.fit(training_images, training_labels, epochs=5)\n",
    "\n",
    "model.evaluate(test_images, test_labels)\n",
    "\n",
    "classifications = model.predict(test_images)\n",
    "\n",
    "print(classifications[0])\n",
    "print(test_labels[0])"
   ]
  },
  {
   "cell_type": "markdown",
   "metadata": {
    "id": "VqoCR-ieSGDg",
    "colab_type": "text"
   },
   "source": [
    "##Exercise 4: \n",
    "\n",
    "Consider the final (output) layers. Why are there 10 of them? What would happen if you had a different amount than 10? For example, try training the network with 5\n",
    "\n",
    "You get an error as soon as it finds an unexpected value. Another rule of thumb -- the number of neurons in the last layer should match the number of classes you are classifying for. In this case it's the digits 0-9, so there are 10 of them, hence you should have 10 neurons in your final layer."
   ]
  },
  {
   "cell_type": "code",
   "execution_count": 0,
   "metadata": {
    "id": "MMckVntcSPvo",
    "colab_type": "code",
    "colab": {}
   },
   "outputs": [],
   "source": [
    "import tensorflow as tf\n",
    "print(tf.__version__)\n",
    "\n",
    "mnist = tf.keras.datasets.mnist\n",
    "\n",
    "(training_images, training_labels) ,  (test_images, test_labels) = mnist.load_data()\n",
    "\n",
    "training_images = training_images/255.0\n",
    "test_images = test_images/255.0\n",
    "\n",
    "model = tf.keras.models.Sequential([tf.keras.layers.Flatten(),\n",
    "                                    tf.keras.layers.Dense(64, activation=tf.nn.relu),\n",
    "                                    tf.keras.layers.Dense(5, activation=tf.nn.softmax)])\n",
    "\n",
    "model.compile(optimizer = 'adam',\n",
    "              loss = 'sparse_categorical_crossentropy')\n",
    "\n",
    "model.fit(training_images, training_labels, epochs=5)\n",
    "\n",
    "model.evaluate(test_images, test_labels)\n",
    "\n",
    "classifications = model.predict(test_images)\n",
    "\n",
    "print(classifications[0])\n",
    "print(test_labels[0])"
   ]
  },
  {
   "cell_type": "markdown",
   "metadata": {
    "id": "-0lF5MuvSuZF",
    "colab_type": "text"
   },
   "source": [
    "##Exercise 5: \n",
    "\n",
    "Consider the effects of additional layers in the network. What will happen if you add another layer between the one with 512 and the final layer with 10. \n",
    "\n",
    "Ans: There isn't a significant impact -- because this is relatively simple data. For far more complex data (including color images to be classified as flowers that you'll see in the next lesson), extra layers are often necessary. "
   ]
  },
  {
   "cell_type": "code",
   "execution_count": 0,
   "metadata": {
    "id": "b1YPa6UhS8Es",
    "colab_type": "code",
    "colab": {}
   },
   "outputs": [],
   "source": [
    "import tensorflow as tf\n",
    "print(tf.__version__)\n",
    "\n",
    "mnist = tf.keras.datasets.mnist\n",
    "\n",
    "(training_images, training_labels) ,  (test_images, test_labels) = mnist.load_data()\n",
    "\n",
    "training_images = training_images/255.0\n",
    "test_images = test_images/255.0\n",
    "\n",
    "model = tf.keras.models.Sequential([tf.keras.layers.Flatten(),\n",
    "                                    tf.keras.layers.Dense(512, activation=tf.nn.relu),\n",
    "                                    tf.keras.layers.Dense(256, activation=tf.nn.relu),\n",
    "                                    tf.keras.layers.Dense(5, activation=tf.nn.softmax)])\n",
    "\n",
    "model.compile(optimizer = 'adam',\n",
    "              loss = 'sparse_categorical_crossentropy')\n",
    "\n",
    "model.fit(training_images, training_labels, epochs=5)\n",
    "\n",
    "model.evaluate(test_images, test_labels)\n",
    "\n",
    "classifications = model.predict(test_images)\n",
    "\n",
    "print(classifications[0])\n",
    "print(test_labels[0])"
   ]
  },
  {
   "cell_type": "code",
   "execution_count": 0,
   "metadata": {
    "id": "sE7PDe6LWAHb",
    "colab_type": "code",
    "colab": {}
   },
   "outputs": [],
   "source": [
    ""
   ]
  },
  {
   "cell_type": "markdown",
   "metadata": {
    "id": "Bql9fyaNUSFy",
    "colab_type": "text"
   },
   "source": [
    "#Exercise 6: \n",
    "\n",
    "Consider the impact of training for more or less epochs. Why do you think that would be the case? \n",
    "\n",
    "Try 15 epochs -- you'll probably get a model with a much better loss than the one with 5\n",
    "Try 30 epochs -- you might see the loss value stops decreasing, and sometimes increases. This is a side effect of something called 'overfitting' which you can learn about [somewhere] and it's something you need to keep an eye out for when training neural networks. There's no point in wasting your time training if you aren't improving your loss, right! :)"
   ]
  },
  {
   "cell_type": "code",
   "execution_count": 0,
   "metadata": {
    "id": "uE3esj9BURQe",
    "colab_type": "code",
    "colab": {}
   },
   "outputs": [],
   "source": [
    "import tensorflow as tf\n",
    "print(tf.__version__)\n",
    "\n",
    "mnist = tf.keras.datasets.mnist\n",
    "\n",
    "(training_images, training_labels) ,  (test_images, test_labels) = mnist.load_data()\n",
    "\n",
    "training_images = training_images/255.0\n",
    "test_images = test_images/255.0\n",
    "\n",
    "model = tf.keras.models.Sequential([tf.keras.layers.Flatten(),\n",
    "                                    tf.keras.layers.Dense(128, activation=tf.nn.relu),\n",
    "                                    tf.keras.layers.Dense(5, activation=tf.nn.softmax)])\n",
    "\n",
    "model.compile(optimizer = 'adam',\n",
    "              loss = 'sparse_categorical_crossentropy')\n",
    "\n",
    "model.fit(training_images, training_labels, epochs=30)\n",
    "\n",
    "model.evaluate(test_images, test_labels)\n",
    "\n",
    "classifications = model.predict(test_images)\n",
    "\n",
    "print(classifications[34])\n",
    "print(test_labels[34])"
   ]
  },
  {
   "cell_type": "markdown",
   "metadata": {
    "id": "HS3vVkOgCDGZ",
    "colab_type": "text"
   },
   "source": [
    "#Exercise 7: \n",
    "\n",
    "Before you trained, you normalized the data, going from values that were 0-255 to values that were 0-1. What would be the impact of removing that? Here's the complete code to give it a try. Why do you think you get different results? "
   ]
  },
  {
   "cell_type": "code",
   "execution_count": 0,
   "metadata": {
    "id": "JDqNAqrpCNg0",
    "colab_type": "code",
    "colab": {}
   },
   "outputs": [],
   "source": [
    "import tensorflow as tf\n",
    "print(tf.__version__)\n",
    "mnist = tf.keras.datasets.mnist\n",
    "(training_images, training_labels), (test_images, test_labels) = mnist.load_data()\n",
    "training_images=training_images/255.0\n",
    "test_images=test_images/255.0\n",
    "model = tf.keras.models.Sequential([\n",
    "  tf.keras.layers.Flatten(),\n",
    "  tf.keras.layers.Dense(512, activation=tf.nn.relu),\n",
    "  tf.keras.layers.Dense(10, activation=tf.nn.softmax)\n",
    "])\n",
    "model.compile(optimizer='adam', loss='sparse_categorical_crossentropy')\n",
    "model.fit(training_images, training_labels, epochs=5)\n",
    "model.evaluate(test_images, test_labels)\n",
    "classifications = model.predict(test_images)\n",
    "print(classifications[0])\n",
    "print(test_labels[0])"
   ]
  },
  {
   "cell_type": "markdown",
   "metadata": {
    "id": "E7W2PT66ZBHQ",
    "colab_type": "text"
   },
   "source": [
    "#Exercise 8: \n",
    "\n",
    "Earlier when you trained for extra epochs you had an issue where your loss might change. It might have taken a bit of time for you to wait for the training to do that, and you might have thought 'wouldn't it be nice if I could stop the training when I reach a desired value?' -- i.e. 95% accuracy might be enough for you, and if you reach that after 3 epochs, why sit around waiting for it to finish a lot more epochs....So how would you fix that? Like any other program...you have callbacks! Let's see them in action..."
   ]
  },
  {
   "cell_type": "code",
   "execution_count": 26,
   "metadata": {
    "id": "pkaEHHgqZbYv",
    "colab_type": "code",
    "colab": {
     "base_uri": "https://localhost:8080/",
     "height": 153.0
    },
    "outputId": "3b60e21e-42fa-438b-f988-a2bd0a95b8a3"
   },
   "outputs": [
    {
     "name": "stdout",
     "output_type": "stream",
     "text": [
      "1.14.0\n",
      "Epoch 1/5\n",
      "60000/60000 [==============================] - 8s 134us/sample - loss: 0.4743\n",
      "Epoch 2/5\n",
      "59616/60000 [============================>.] - ETA: 0s - loss: 0.3599\n",
      "Reached 60% accuracy so cancelling training!\n",
      "60000/60000 [==============================] - 8s 130us/sample - loss: 0.3594\n"
     ]
    },
    {
     "data": {
      "text/plain": [
       "<tensorflow.python.keras.callbacks.History at 0x7f547031bc50>"
      ]
     },
     "execution_count": 26,
     "metadata": {
      "tags": []
     },
     "output_type": "execute_result"
    }
   ],
   "source": [
    "import tensorflow as tf\n",
    "print(tf.__version__)\n",
    "\n",
    "class myCallback(tf.keras.callbacks.Callback):\n",
    "  def on_epoch_end(self, epoch, logs={}):\n",
    "    if(logs.get('loss')<0.4):\n",
    "      print(\"\\nReached 60% accuracy so cancelling training!\")\n",
    "      self.model.stop_training = True\n",
    "\n",
    "callbacks = myCallback()\n",
    "mnist = tf.keras.datasets.fashion_mnist\n",
    "(training_images, training_labels), (test_images, test_labels) = mnist.load_data()\n",
    "training_images=training_images/255.0\n",
    "test_images=test_images/255.0\n",
    "model = tf.keras.models.Sequential([\n",
    "  tf.keras.layers.Flatten(),\n",
    "  tf.keras.layers.Dense(512, activation=tf.nn.relu),\n",
    "  tf.keras.layers.Dense(10, activation=tf.nn.softmax)\n",
    "])\n",
    "model.compile(optimizer='adam', loss='sparse_categorical_crossentropy')\n",
    "model.fit(training_images, training_labels, epochs=5, callbacks=[callbacks])\n",
    "\n",
    "\n"
   ]
  }
 ],
 "metadata": {
  "colab": {
   "name": "Course 1 - Part 4 - Lesson 2 - Notebook.ipynb",
   "version": "0.3.2",
   "provenance": [],
   "collapsed_sections": []
  },
  "kernelspec": {
   "name": "python2",
   "display_name": "Python 2"
  }
 },
 "nbformat": 4,
 "nbformat_minor": 0
}
